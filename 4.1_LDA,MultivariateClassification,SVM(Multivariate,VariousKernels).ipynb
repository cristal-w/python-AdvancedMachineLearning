{
 "cells": [
  {
   "cell_type": "markdown",
   "id": "f6834303-ffd6-4921-a3ab-42cdade3a55d",
   "metadata": {},
   "source": [
    "#  LDA, Multivariate Classification(Linear, LogR, KNN, CT), Support Vector Machines (Multivariate) with Various Kernels (Linear, RBF, Poly)\n",
    "\n",
    "In this worksheet, we will practice classification using various reference methods ([LDA](https://scikit-learn.org/1.5/modules/lda_qda.html), [LR](https://scikit-learn.org/1.5/modules/linear_model.html#logistic-regression), [NN](https://scikit-learn.org/1.5/modules/neighbors.html), [CT](https://scikit-learn.org/1.5/modules/tree.html#)) and [SVM](https://scikit-learn.org/1.5/modules/svm.html), and measure their [performance](https://scikit-learn.org/1.5/modules/model_evaluation.html#classification-metrics). \n",
    "LDA is a special case of QDA, where the Gaussians for each class are assumed to share the same covariance matrix.\n"
   ]
  },
  {
   "cell_type": "markdown",
   "id": "f6b4abea",
   "metadata": {},
   "source": [
    "##### Data Load\n",
    "We first load the classic [Wisconsin Diagnostic Breast Cancer (WDBC) Data](https://archive.ics.uci.edu/dataset/17/breast+cancer+wisconsin+diagnostic), used to diagnose breast cancer from biopsy samples based on 30 features of the tissue cells. "
   ]
  },
  {
   "cell_type": "code",
   "execution_count": 1,
   "id": "4d332565",
   "metadata": {},
   "outputs": [
    {
     "data": {
      "text/html": [
       "<div>\n",
       "<style scoped>\n",
       "    .dataframe tbody tr th:only-of-type {\n",
       "        vertical-align: middle;\n",
       "    }\n",
       "\n",
       "    .dataframe tbody tr th {\n",
       "        vertical-align: top;\n",
       "    }\n",
       "\n",
       "    .dataframe thead th {\n",
       "        text-align: right;\n",
       "    }\n",
       "</style>\n",
       "<table border=\"1\" class=\"dataframe\">\n",
       "  <thead>\n",
       "    <tr style=\"text-align: right;\">\n",
       "      <th></th>\n",
       "      <th>diagnosis</th>\n",
       "      <th>radius_m</th>\n",
       "      <th>texture_m</th>\n",
       "      <th>perimeter_m</th>\n",
       "      <th>area_m</th>\n",
       "      <th>smoothness_m</th>\n",
       "      <th>compactness_m</th>\n",
       "      <th>concavity_m</th>\n",
       "      <th>concave_points_m</th>\n",
       "      <th>symmetry_m</th>\n",
       "      <th>...</th>\n",
       "      <th>radius_w</th>\n",
       "      <th>texture_w</th>\n",
       "      <th>perimeter_w</th>\n",
       "      <th>area_w</th>\n",
       "      <th>smoothness_w</th>\n",
       "      <th>compactness_w</th>\n",
       "      <th>concavity_w</th>\n",
       "      <th>concave_points_w</th>\n",
       "      <th>symmetry_w</th>\n",
       "      <th>fractal_dimension_w</th>\n",
       "    </tr>\n",
       "  </thead>\n",
       "  <tbody>\n",
       "    <tr>\n",
       "      <th>333</th>\n",
       "      <td>benign</td>\n",
       "      <td>11.250</td>\n",
       "      <td>14.78</td>\n",
       "      <td>71.38</td>\n",
       "      <td>390.0</td>\n",
       "      <td>0.08306</td>\n",
       "      <td>0.04458</td>\n",
       "      <td>0.000974</td>\n",
       "      <td>0.002941</td>\n",
       "      <td>0.1773</td>\n",
       "      <td>...</td>\n",
       "      <td>12.76</td>\n",
       "      <td>22.06</td>\n",
       "      <td>82.08</td>\n",
       "      <td>492.7</td>\n",
       "      <td>0.1166</td>\n",
       "      <td>0.09794</td>\n",
       "      <td>0.005518</td>\n",
       "      <td>0.01667</td>\n",
       "      <td>0.2815</td>\n",
       "      <td>0.07418</td>\n",
       "    </tr>\n",
       "    <tr>\n",
       "      <th>273</th>\n",
       "      <td>benign</td>\n",
       "      <td>9.742</td>\n",
       "      <td>15.67</td>\n",
       "      <td>61.50</td>\n",
       "      <td>289.9</td>\n",
       "      <td>0.09037</td>\n",
       "      <td>0.04689</td>\n",
       "      <td>0.011030</td>\n",
       "      <td>0.014070</td>\n",
       "      <td>0.2081</td>\n",
       "      <td>...</td>\n",
       "      <td>10.75</td>\n",
       "      <td>20.88</td>\n",
       "      <td>68.09</td>\n",
       "      <td>355.2</td>\n",
       "      <td>0.1467</td>\n",
       "      <td>0.09370</td>\n",
       "      <td>0.040430</td>\n",
       "      <td>0.05159</td>\n",
       "      <td>0.2841</td>\n",
       "      <td>0.08175</td>\n",
       "    </tr>\n",
       "    <tr>\n",
       "      <th>201</th>\n",
       "      <td>malignant</td>\n",
       "      <td>17.540</td>\n",
       "      <td>19.32</td>\n",
       "      <td>115.10</td>\n",
       "      <td>951.6</td>\n",
       "      <td>0.08968</td>\n",
       "      <td>0.11980</td>\n",
       "      <td>0.103600</td>\n",
       "      <td>0.074880</td>\n",
       "      <td>0.1506</td>\n",
       "      <td>...</td>\n",
       "      <td>20.42</td>\n",
       "      <td>25.84</td>\n",
       "      <td>139.50</td>\n",
       "      <td>1239.0</td>\n",
       "      <td>0.1381</td>\n",
       "      <td>0.34200</td>\n",
       "      <td>0.350800</td>\n",
       "      <td>0.19390</td>\n",
       "      <td>0.2928</td>\n",
       "      <td>0.07867</td>\n",
       "    </tr>\n",
       "  </tbody>\n",
       "</table>\n",
       "<p>3 rows × 31 columns</p>\n",
       "</div>"
      ],
      "text/plain": [
       "     diagnosis  radius_m  texture_m  perimeter_m  area_m  smoothness_m  \\\n",
       "333     benign    11.250      14.78        71.38   390.0       0.08306   \n",
       "273     benign     9.742      15.67        61.50   289.9       0.09037   \n",
       "201  malignant    17.540      19.32       115.10   951.6       0.08968   \n",
       "\n",
       "     compactness_m  concavity_m  concave_points_m  symmetry_m  ...  radius_w  \\\n",
       "333        0.04458     0.000974          0.002941      0.1773  ...     12.76   \n",
       "273        0.04689     0.011030          0.014070      0.2081  ...     10.75   \n",
       "201        0.11980     0.103600          0.074880      0.1506  ...     20.42   \n",
       "\n",
       "     texture_w  perimeter_w  area_w  smoothness_w  compactness_w  concavity_w  \\\n",
       "333      22.06        82.08   492.7        0.1166        0.09794     0.005518   \n",
       "273      20.88        68.09   355.2        0.1467        0.09370     0.040430   \n",
       "201      25.84       139.50  1239.0        0.1381        0.34200     0.350800   \n",
       "\n",
       "     concave_points_w  symmetry_w  fractal_dimension_w  \n",
       "333           0.01667      0.2815              0.07418  \n",
       "273           0.05159      0.2841              0.08175  \n",
       "201           0.19390      0.2928              0.07867  \n",
       "\n",
       "[3 rows x 31 columns]"
      ]
     },
     "execution_count": 1,
     "metadata": {},
     "output_type": "execute_result"
    }
   ],
   "source": [
    "import numpy as np;import pandas as pd;import matplotlib.pyplot as plt\n",
    "from sklearn.datasets import load_breast_cancer\n",
    "\n",
    "tmp = load_breast_cancer() # load dictinary of 'target' (y) and 'data' (X)  variables\n",
    "wdbc = pd.DataFrame( data= np.c_[ tmp['target'], tmp['data'] ], # make pandas DataFrame\n",
    "    columns= ['diagnosis', 'radius_m', 'texture_m', 'perimeter_m','area_m', 'smoothness_m', 'compactness_m', 'concavity_m',\n",
    "    'concave_points_m', 'symmetry_m', 'fractal_dimension_m', 'radius_se', 'texture_se', 'perimeter_se','area_se',\n",
    "    'smoothness_se', 'compactness_se', 'concavity_se', 'concave_points_se', 'symmetry_se', 'fractal_dimension_se', \n",
    "    'radius_w', 'texture_w','perimeter_w', 'area_w', 'smoothness_w', 'compactness_w', 'concavity_w',\n",
    "    'concave_points_w','symmetry_w', 'fractal_dimension_w'])\n",
    "# diagnosis = 0.0 -> malignant tumor; diagnosis = 1.0 -> benign tumor; \n",
    "wdbc.diagnosis = np.where( wdbc.diagnosis == 0.0, \"malignant\", \"benign\")\n",
    "wdbc.sample(3, random_state=123) # Randomly selects 3 rows from the wdbc DataFrame."
   ]
  },
  {
   "cell_type": "markdown",
   "id": "bbb6813f",
   "metadata": {},
   "source": [
    "## 1. Linear Discriminant Analysis (LDA) \n",
    "\n",
    "### 1.1. Univariate Linear Classification\n",
    "\n",
    "#### 1.1.1. LDA Model & decision boundary plot\n",
    "The code below uses Linear Discriminant Analysis (LDA) to predict the diagnosis (classify tumors) based on the mean cell radius (`radius_m`), which is equivalent to **thresholding this feature**. The code below fits the LDA model and plots the decision boundary/threshold on a histogram. "
   ]
  },
  {
   "cell_type": "code",
   "execution_count": 2,
   "id": "8d67f5fd",
   "metadata": {},
   "outputs": [
    {
     "data": {
      "image/png": "[encoded data removed]",
      "text/plain": [
       "<Figure size 500x100 with 1 Axes>"
      ]
     },
     "metadata": {},
     "output_type": "display_data"
    }
   ],
   "source": [
    "from sklearn.discriminant_analysis import LinearDiscriminantAnalysis as LDA\n",
    "\n",
    "x = wdbc['radius_m'].to_numpy().reshape(-1,1); y = wdbc['diagnosis'].to_numpy()\n",
    "clf = LDA() # define classifier (clf)\n",
    "clf.fit(x, y)\n",
    "radius_m_threshold = - (clf.intercept_ / clf.coef_) # threshold of 1D linear decision boundary \n",
    "\n",
    "import seaborn as sns\n",
    "plt.figure(figsize=(5, 1)); sns.histplot( data = wdbc, x='radius_m', hue = 'diagnosis')\n",
    "plt.axvline( radius_m_threshold, color = 'r', linestyle = \"--\", linewidth = 2 );"
   ]
  },
  {
   "cell_type": "markdown",
   "id": "99d07376",
   "metadata": {},
   "source": [
    "#### 1.1.2. In Sample Performance (confusion matrix, classification report) \n",
    "We now calculate the confusion matrix and various metrics for the *in-sample* performance of the LDA classifier:"
   ]
  },
  {
   "cell_type": "code",
   "execution_count": 3,
   "id": "e6244148",
   "metadata": {},
   "outputs": [
    {
     "name": "stdout",
     "output_type": "stream",
     "text": [
      "[[149  63]\n",
      " [  8 349]]\n",
      "              precision    recall  f1-score   support\n",
      "\n",
      "   malignant       0.95      0.70      0.81       212\n",
      "      benign       0.85      0.98      0.91       357\n",
      "\n",
      "    accuracy                           0.88       569\n",
      "   macro avg       0.90      0.84      0.86       569\n",
      "weighted avg       0.89      0.88      0.87       569\n",
      "\n"
     ]
    }
   ],
   "source": [
    "from sklearn.metrics import classification_report, confusion_matrix\n",
    "\n",
    "y_pred = clf.predict(x) # equivalent to thresholding predictions from: \n",
    "# y_pred = np.where( wdbc.radius_m < radius_m_threshold[0,0], \"benign\", \"malignant\" ) \n",
    "\n",
    "print( confusion_matrix( y, y_pred, labels=['malignant', 'benign']) ) # labesl used to reorder y-labels\n",
    "print( classification_report( y, y_pred, labels=['malignant', 'benign']) )"
   ]
  },
  {
   "cell_type": "code",
   "execution_count": 4,
   "id": "c8687b74",
   "metadata": {},
   "outputs": [
    {
     "name": "stdout",
     "output_type": "stream",
     "text": [
      "             y_pred_malignant  y_pred_benign\n",
      "y_malignant               149             63\n",
      "y_benign                    8            349\n",
      "count y_pred=malignant, y=malignant: 149\n",
      "count y_pred=malignant, y=benign: 8\n"
     ]
    }
   ],
   "source": [
    "from sklearn.metrics import confusion_matrix; import pandas as pd\n",
    "\n",
    "conf_matrix = confusion_matrix(y, y_pred, labels=['malignant', 'benign'])\n",
    "# Create a DataFrame to display the confusion matrix\n",
    "conf_matrix_df = pd.DataFrame(conf_matrix, index=['y_malignant', 'y_benign'], columns=['y_pred_malignant', 'y_pred_benign'])\n",
    "print(conf_matrix_df)\n",
    "\n",
    "print(\"count y_pred=malignant, y=malignant:\" ,sum ((y_pred==\"malignant\" ) * (y == \"malignant\") ) )\n",
    "print(\"count y_pred=malignant, y=benign:\" ,sum ((y_pred== \"malignant\") * (y ==\"benign\" ) ) )"
   ]
  },
  {
   "cell_type": "markdown",
   "id": "c11fa002",
   "metadata": {},
   "source": [
    "#### 1.1.3. ROC-AUC\n",
    "And we also create the ROC plot and calculate the AUC value:\n",
    " \n",
    "`clf.predict_proba(x)[:,1]`: Extracts the probability of the positive class (malignant) for each data point. (0 for negative class)"
   ]
  },
  {
   "cell_type": "code",
   "execution_count": 5,
   "id": "1b38e4c0",
   "metadata": {},
   "outputs": [
    {
     "data": {
      "text/plain": [
       "<sklearn.metrics._plot.roc_curve.RocCurveDisplay at 0x7f9b82a53410>"
      ]
     },
     "execution_count": 5,
     "metadata": {},
     "output_type": "execute_result"
    },
    {
     "data": {
      "image/png": "[encoded data removed]",
      "text/plain": [
       "<Figure size 800x200 with 1 Axes>"
      ]
     },
     "metadata": {},
     "output_type": "display_data"
    }
   ],
   "source": [
    "from sklearn.metrics import roc_curve, auc, RocCurveDisplay, roc_auc_score\n",
    "\n",
    "# Calculate ROC points ( FPR on x-axis, TPR on y-axis )\n",
    "fpr, tpr, thresholds = roc_curve(y, x, pos_label='malignant') \n",
    "## Alternatively, you can predict the (posterior) probability of 'malignant' from LDA, and use that for the ROC/thresholding\n",
    "# fpr, tpr, thresholds = roc_curve(y, clf.predict_proba(x)[:,1], pos_label='malignant') \n",
    "\n",
    "# Calculate AUC\n",
    "AUC = auc(fpr, tpr) \n",
    "#AUC = roc_auc_score(y, x) #this calculate the AUC by thresholding a variable/probabilites directly \n",
    "\n",
    "# Plot ROC and AUC\n",
    "fig, ax = plt.subplots(figsize=(8, 2)) ; \n",
    "roc_display = RocCurveDisplay(fpr=fpr, tpr=tpr, roc_auc=AUC); roc_display.plot(ax=ax)\n"
   ]
  },
  {
   "cell_type": "markdown",
   "id": "8a8ec045",
   "metadata": {},
   "source": [
    "### 1.2.  Multivariate Linear Classification \n",
    "\n",
    "The classifier's performance can be improved by using all avalable features. "
   ]
  },
  {
   "cell_type": "code",
   "execution_count": 6,
   "id": "6a903257",
   "metadata": {},
   "outputs": [
    {
     "name": "stdout",
     "output_type": "stream",
     "text": [
      "              precision    recall  f1-score   support\n",
      "\n",
      "      benign       0.95      0.99      0.97       357\n",
      "   malignant       0.99      0.92      0.95       212\n",
      "\n",
      "    accuracy                           0.96       569\n",
      "   macro avg       0.97      0.95      0.96       569\n",
      "weighted avg       0.97      0.96      0.96       569\n",
      "\n"
     ]
    },
    {
     "data": {
      "text/plain": [
       "<sklearn.metrics._plot.roc_curve.RocCurveDisplay at 0x7f9b82925e90>"
      ]
     },
     "execution_count": 6,
     "metadata": {},
     "output_type": "execute_result"
    },
    {
     "data": {
      "image/png": "[encoded data removed]",
      "text/plain": [
       "<Figure size 800x200 with 1 Axes>"
      ]
     },
     "metadata": {},
     "output_type": "display_data"
    }
   ],
   "source": [
    "X = wdbc.drop('diagnosis', axis = 1).to_numpy()\n",
    "\n",
    "clf_LDA = LDA() ; clf_LDA.fit(X, y)\n",
    "\n",
    "print( classification_report( y, clf_LDA.predict(X)) )\n",
    "\n",
    "fpr, tpr, thresholds = roc_curve(y, clf_LDA.predict_proba(X)[:,1], pos_label='malignant') \n",
    "# Plot ROC and AUC\n",
    "fig, ax = plt.subplots(figsize=(8, 2)); \n",
    "roc_display = RocCurveDisplay(fpr = fpr, tpr = tpr, roc_auc = auc(fpr, tpr)); roc_display.plot(ax=ax)"
   ]
  },
  {
   "cell_type": "markdown",
   "id": "bcf595e2",
   "metadata": {},
   "source": [
    "The *in-sample* performance is very good, but we might be overfitting. Randomly split the data into a training and test set with 75% and 25% of the observations respectively with `sklearn.model_selection.train_test_split()`. Measure the out-of-sample performance by running `sklearn.metrics.classification_report()` on the test set. "
   ]
  },
  {
   "cell_type": "code",
   "execution_count": 7,
   "id": "2e88b332",
   "metadata": {},
   "outputs": [
    {
     "name": "stdout",
     "output_type": "stream",
     "text": [
      "              precision    recall  f1-score   support\n",
      "\n",
      "      benign       0.96      1.00      0.98        90\n",
      "   malignant       1.00      0.92      0.96        53\n",
      "\n",
      "    accuracy                           0.97       143\n",
      "   macro avg       0.98      0.96      0.97       143\n",
      "weighted avg       0.97      0.97      0.97       143\n",
      "\n"
     ]
    }
   ],
   "source": [
    "X = wdbc.drop('diagnosis', axis = 1).to_numpy()\n",
    "y = wdbc['diagnosis'].to_numpy()\n",
    "\n",
    "# train_test split:\n",
    "from sklearn.model_selection import train_test_split\n",
    "X_train, X_test, y_train, y_test = train_test_split(X, y, test_size=0.25, random_state=0)\n",
    "\n",
    "clf_LDA = LDA()\n",
    "clf_LDA.fit(X_train, y_train) # overwrites previously trained model\n",
    "print( classification_report( y_test, clf_LDA.predict(X_test)) )"
   ]
  },
  {
   "cell_type": "markdown",
   "id": "f1f2287c",
   "metadata": {},
   "source": [
    "## 2. Other Multivariate classification analysis (LR,KNN,CT) \n",
    "\n",
    "Repeat the classification analysis above using Logistic Regression (`sklearn.linear_model.LogisticRegression()`), k-Nearest Neighbors (`sklearn.neighbors.KNeighborsClassifier()`), and Classification Trees (`sklearn.tree.DecisionTreeClassifier`), using default options. Calculate and print their classification report."
   ]
  },
  {
   "cell_type": "code",
   "execution_count": 8,
   "id": "89aa89d0",
   "metadata": {},
   "outputs": [
    {
     "name": "stdout",
     "output_type": "stream",
     "text": [
      "Logistic Regression:\n",
      "              precision    recall  f1-score   support\n",
      "\n",
      "      benign       0.98      0.93      0.95        90\n",
      "   malignant       0.89      0.96      0.93        53\n",
      "\n",
      "    accuracy                           0.94       143\n",
      "   macro avg       0.94      0.95      0.94       143\n",
      "weighted avg       0.95      0.94      0.94       143\n",
      "\n",
      "\n",
      "k-Nearest Neighbors:\n",
      "              precision    recall  f1-score   support\n",
      "\n",
      "      benign       0.96      0.94      0.95        90\n",
      "   malignant       0.91      0.92      0.92        53\n",
      "\n",
      "    accuracy                           0.94       143\n",
      "   macro avg       0.93      0.93      0.93       143\n",
      "weighted avg       0.94      0.94      0.94       143\n",
      "\n",
      "\n",
      "Classification Tree:\n",
      "              precision    recall  f1-score   support\n",
      "\n",
      "      benign       0.96      0.83      0.89        90\n",
      "   malignant       0.77      0.94      0.85        53\n",
      "\n",
      "    accuracy                           0.87       143\n",
      "   macro avg       0.87      0.89      0.87       143\n",
      "weighted avg       0.89      0.87      0.88       143\n",
      "\n"
     ]
    },
    {
     "name": "stderr",
     "output_type": "stream",
     "text": [
      "/opt/conda/lib/python3.11/site-packages/sklearn/linear_model/_logistic.py:460: ConvergenceWarning: lbfgs failed to converge (status=1):\n",
      "STOP: TOTAL NO. of ITERATIONS REACHED LIMIT.\n",
      "\n",
      "Increase the number of iterations (max_iter) or scale the data as shown in:\n",
      "    https://scikit-learn.org/stable/modules/preprocessing.html\n",
      "Please also refer to the documentation for alternative solver options:\n",
      "    https://scikit-learn.org/stable/modules/linear_model.html#logistic-regression\n",
      "  n_iter_i = _check_optimize_result(\n"
     ]
    }
   ],
   "source": [
    "from sklearn.linear_model import LogisticRegression; from sklearn.neighbors import KNeighborsClassifier\n",
    "from sklearn.tree import DecisionTreeClassifier\n",
    "\n",
    "# data prep\n",
    "X = wdbc.drop('diagnosis', axis = 1).to_numpy()\n",
    "y = wdbc['diagnosis'].to_numpy()\n",
    "from sklearn.model_selection import train_test_split\n",
    "X_train, X_test, y_train, y_test = train_test_split(X, y, test_size=0.25, random_state=0)\n",
    "\n",
    "# Logistic Regression\n",
    "clf_LR = LogisticRegression()\n",
    "clf_LR.fit(X_train, y_train)\n",
    "y_pred_LR = clf_LR.predict(X_test)\n",
    "print(\"Logistic Regression:\")\n",
    "print(classification_report(y_test, y_pred_LR))\n",
    "\n",
    "# k-Nearest Neighbors (kNN)\n",
    "clf_kNN = KNeighborsClassifier(n_neighbors=5)  # You can adjust the number of neighbors\n",
    "clf_kNN.fit(X_train, y_train)\n",
    "y_pred_kNN = clf_kNN.predict(X_test)\n",
    "print(\"\\nk-Nearest Neighbors:\")\n",
    "print(classification_report(y_test, y_pred_kNN))\n",
    "\n",
    "# Classification Tree\n",
    "clf_CT = DecisionTreeClassifier()\n",
    "clf_CT.fit(X_train, y_train)\n",
    "y_pred_CT = clf_CT.predict(X_test)\n",
    "print(\"\\nClassification Tree:\")\n",
    "print(classification_report(y_test, y_pred_CT))\n"
   ]
  },
  {
   "cell_type": "code",
   "execution_count": 9,
   "id": "7c95f8c8",
   "metadata": {},
   "outputs": [
    {
     "data": {
      "image/png": "[encoded data removed]",
      "text/plain": [
       "<Figure size 1000x200 with 1 Axes>"
      ]
     },
     "metadata": {},
     "output_type": "display_data"
    }
   ],
   "source": [
    "# Calculate ROC curves\n",
    "from sklearn.metrics import roc_curve\n",
    "fpr_log_reg, tpr_log_reg, _ = roc_curve(y, clf_LR.predict_proba(X)[:, 1], pos_label='malignant')\n",
    "fpr_clf_kNN, tpr_clf_kNN, _ = roc_curve(y, clf_kNN.predict_proba(X)[:, 1], pos_label='malignant')\n",
    "fpr_clf_CT, tpr_clf_CT, _ = roc_curve(y, clf_CT.predict_proba(X)[:, 1], pos_label='malignant')\n",
    "\n",
    "# Plot ROC curves\n",
    "plt.figure(figsize=(10, 2))\n",
    "plt.plot(fpr_log_reg, tpr_log_reg, label=f'Logistic Regression')\n",
    "plt.plot(fpr_clf_kNN, tpr_clf_kNN, label=f'k-Nearest Neighbors (kNN)')\n",
    "plt.plot(fpr_clf_CT, tpr_clf_CT, label=f'Classification Tree (default)')\n",
    "plt.plot([0, 1], [0, 1], 'k--')  # Diagonal line\n",
    "plt.xlabel('False Positive Rate');plt.ylabel('True Positive Rate');plt.title('ROC Curve');plt.legend(loc='best');plt.show()"
   ]
  },
  {
   "cell_type": "markdown",
   "id": "e0f05399",
   "metadata": {},
   "source": [
    "## 3. Support Vector Machines (Multivariate)\n",
    "\n",
    "### 3.1.  linear (non-kernel) SVM classifier\n",
    "Use a linear (non-kernel) SVM classifier (`sklearn.svm.LinearSVC`) on the same data, and report its out-of-sample performance.\n",
    "Use the option `dual = 'auto'`, which will automatically choose the best optimization formulation (primal or dual) to solve."
   ]
  },
  {
   "cell_type": "code",
   "execution_count": 10,
   "id": "c41f45f1",
   "metadata": {},
   "outputs": [
    {
     "name": "stdout",
     "output_type": "stream",
     "text": [
      "              precision    recall  f1-score   support\n",
      "\n",
      "   malignant       0.93      0.98      0.95        53\n",
      "      benign       0.99      0.96      0.97        90\n",
      "\n",
      "    accuracy                           0.97       143\n",
      "   macro avg       0.96      0.97      0.96       143\n",
      "weighted avg       0.97      0.97      0.97       143\n",
      "\n"
     ]
    }
   ],
   "source": [
    "# data prep\n",
    "X = wdbc.drop('diagnosis', axis = 1).to_numpy(); y = wdbc['diagnosis'].to_numpy()\n",
    "\n",
    "from sklearn.model_selection import train_test_split\n",
    "X_train, X_test, y_train, y_test = train_test_split(X, y, test_size=0.25, random_state=0)\n",
    "\n",
    "### Linear SVM\n",
    "from sklearn.svm import LinearSVC\n",
    "clf_LSVC = LinearSVC( dual = 'auto' ); clf_LSVC.fit( X_train, y_train )\n",
    "y_pred_LSVC = clf_LSVC.predict(X_test)\n",
    "\n",
    "print( classification_report(y_test, y_pred_LSVC, labels=['malignant','benign'] ) )"
   ]
  },
  {
   "cell_type": "markdown",
   "id": "3ac5f714",
   "metadata": {},
   "source": [
    "### 3.2.  (RBF kernel) SVM classifier\n",
    "\n",
    "Repeat the previous part using an SVM with RBF kernel, which is the default option for `sklearn.svm.SVC`. Use an sklearn pipeline to standardize the features first; this is recommended for features with different scales, since there is only one kernel bandwidth coefficient for all features."
   ]
  },
  {
   "cell_type": "code",
   "execution_count": 11,
   "id": "b9b5f1c7",
   "metadata": {},
   "outputs": [
    {
     "name": "stdout",
     "output_type": "stream",
     "text": [
      "              precision    recall  f1-score   support\n",
      "\n",
      "   malignant       0.96      0.94      0.95        53\n",
      "      benign       0.97      0.98      0.97        90\n",
      "\n",
      "    accuracy                           0.97       143\n",
      "   macro avg       0.96      0.96      0.96       143\n",
      "weighted avg       0.96      0.97      0.96       143\n",
      "\n"
     ]
    }
   ],
   "source": [
    "from sklearn.pipeline import make_pipeline;from sklearn.preprocessing import StandardScaler; from sklearn.svm import SVC\n",
    "\n",
    "clf_SVC_RBF = make_pipeline(StandardScaler(), SVC(gamma='auto')); clf_SVC_RBF.fit(X_train, y_train)\n",
    "y_pred_SVC_RBF = clf_SVC_RBF.predict(X_test)\n",
    "\n",
    "print( classification_report(y_test, y_pred_SVC_RBF, labels=['malignant','benign'] ) )"
   ]
  },
  {
   "cell_type": "markdown",
   "id": "8a535e6e",
   "metadata": {},
   "source": [
    "### 3.3.  (polynomial kernel) SVM classifier\n",
    "Repeat the previous part using a Support Vector classifier with a polynomial kernel of degree 3."
   ]
  },
  {
   "cell_type": "code",
   "execution_count": 12,
   "id": "2095071b",
   "metadata": {},
   "outputs": [
    {
     "name": "stdout",
     "output_type": "stream",
     "text": [
      "              precision    recall  f1-score   support\n",
      "\n",
      "      benign       0.91      0.98      0.94        90\n",
      "   malignant       0.96      0.83      0.89        53\n",
      "\n",
      "    accuracy                           0.92       143\n",
      "   macro avg       0.93      0.90      0.92       143\n",
      "weighted avg       0.93      0.92      0.92       143\n",
      "\n"
     ]
    }
   ],
   "source": [
    "from sklearn.svm import SVC; import matplotlib.pyplot as plt; from sklearn.inspection import DecisionBoundaryDisplay\n",
    "\n",
    "svc_poly = SVC(kernel='poly', degree = 3, probability=True).fit(X_train,y_train)\n",
    "y_pred_svc_poly = svc_poly.predict(X_test)\n",
    "\n",
    "print( classification_report( y_test,y_pred_svc_poly) )"
   ]
  }
 ],
 "metadata": {
  "kernelspec": {
   "display_name": "Python 3 (ipykernel)",
   "language": "python",
   "name": "python3"
  },
  "language_info": {
   "codemirror_mode": {
    "name": "ipython",
    "version": 3
   },
   "file_extension": ".py",
   "mimetype": "text/x-python",
   "name": "python",
   "nbconvert_exporter": "python",
   "pygments_lexer": "ipython3",
   "version": "3.11.6"
  }
 },
 "nbformat": 4,
 "nbformat_minor": 5
}
