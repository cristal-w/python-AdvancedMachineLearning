{
 "cells": [
  {
   "cell_type": "markdown",
   "id": "4fe23a36-4bd7-41ef-96a3-aacc0f1ca74c",
   "metadata": {},
   "source": [
    "# Simple Bayesian Statistical Analysis & Gaussian Naive Bayes Classifier (pymc Method)\n"
   ]
  },
  {
   "cell_type": "markdown",
   "id": "48939923-f68d-43c3-8326-d3a4ec367057",
   "metadata": {},
   "source": [
    "\n",
    "## 1. Simple Bayesian Statistical Analysis\n",
    "For this problem you will perform a simple Bayesian statistical analysis with `pymc`.  \n",
    "\n",
    "### 1.1. Normal simulation & histogram\n",
    "Simulate $N=200$ observations from a $\\mathcal{N}(\\mu=5,\\sigma=2)$ distribution. Report the mean and standard deviation, and plot a histogram of the simulated data. \n"
   ]
  },
  {
   "cell_type": "code",
   "execution_count": 1,
   "id": "09506661",
   "metadata": {},
   "outputs": [
    {
     "name": "stdout",
     "output_type": "stream",
     "text": [
      "sample mean = 5.006650718566106\n",
      "sample std = 1.9110889360464596\n"
     ]
    },
    {
     "data": {
      "image/png": "[encoded data removed]",
      "text/plain": [
       "<Figure size 500x100 with 1 Axes>"
      ]
     },
     "metadata": {},
     "output_type": "display_data"
    }
   ],
   "source": [
    "import numpy as np\n",
    "N=200; \n",
    "rng = np.random.default_rng(seed=12345)\n",
    "X = rng.normal(loc=5.0, scale=2.0, size=N)\n",
    "\n",
    "import matplotlib.pyplot as plt\n",
    "plt.figure(figsize=(5, 1)); plt.hist(X);\n",
    "print( f\"sample mean = {X.mean()}\")\n",
    "print( f\"sample std = {X.std()}\")"
   ]
  },
  {
   "cell_type": "markdown",
   "id": "dba6e0b5",
   "metadata": {},
   "source": [
    "### 1.2. Hierarchical model with simulated data & graph\n",
    "\n",
    "Now, assume you don't know the values of the parameters ($\\mu,\\sigma$), but want to estimate them with a hierarchical model. Specify the following model in `pymc`:\n",
    "    $$\\text{priors: }M \\sim \\mathrm{Normal}( \\mu = 0, \\sigma = 100 ), \\quad S \\sim \\mathrm{InverseGamma}( \\alpha = 0.001, \\beta = 0.001 ) $$\n",
    "    $$\\text{likelihood: } X_i \\sim^{iid} \\mathrm{Normal}( \\mu = M, \\sigma = S ),\\;\\; \\forall i=1,\\ldots,N $$\n",
    "    Use the data you simulated as observed values in the model, and plot the model's graph."
   ]
  },
  {
   "cell_type": "code",
   "execution_count": 2,
   "id": "9bcf77dc",
   "metadata": {},
   "outputs": [
    {
     "data": {
      "image/svg+xml": [
       "<?xml version=\"1.0\" encoding=\"UTF-8\" standalone=\"no\"?>\n",
       "<!DOCTYPE svg PUBLIC \"-//W3C//DTD SVG 1.1//EN\"\n",
       " \"http://www.w3.org/Graphics/SVG/1.1/DTD/svg11.dtd\">\n",
       "<!-- Generated by graphviz version 9.0.0 (20231125.0833)\n",
       " -->\n",
       "<!-- Pages: 1 -->\n",
       "<svg width=\"145pt\" height=\"144pt\"\n",
       " viewBox=\"0.00 0.00 144.94 144.00\" xmlns=\"http://www.w3.org/2000/svg\" xmlns:xlink=\"http://www.w3.org/1999/xlink\">\n",
       "<g id=\"graph0\" class=\"graph\" transform=\"scale(0.566375 0.566375) rotate(0) translate(4 250.25)\">\n",
       "<polygon fill=\"white\" stroke=\"none\" points=\"-4,4 -4,-250.25 251.9,-250.25 251.9,4 -4,4\"/>\n",
       "<g id=\"clust1\" class=\"cluster\">\n",
       "<title>cluster200</title>\n",
       "<path fill=\"none\" stroke=\"black\" d=\"M69.97,-8C69.97,-8 159.97,-8 159.97,-8 165.97,-8 171.97,-14 171.97,-20 171.97,-20 171.97,-121.75 171.97,-121.75 171.97,-127.75 165.97,-133.75 159.97,-133.75 159.97,-133.75 69.97,-133.75 69.97,-133.75 63.97,-133.75 57.97,-127.75 57.97,-121.75 57.97,-121.75 57.97,-20 57.97,-20 57.97,-14 63.97,-8 69.97,-8\"/>\n",
       "<text text-anchor=\"middle\" x=\"150.47\" y=\"-15.95\" font-family=\"Times,serif\" font-size=\"14.00\">200</text>\n",
       "</g>\n",
       "<!-- M -->\n",
       "<g id=\"node1\" class=\"node\">\n",
       "<title>M</title>\n",
       "<ellipse fill=\"none\" stroke=\"black\" cx=\"48.97\" cy=\"-204\" rx=\"48.97\" ry=\"42.25\"/>\n",
       "<text text-anchor=\"middle\" x=\"48.97\" y=\"-216.57\" font-family=\"Times,serif\" font-size=\"14.00\">M</text>\n",
       "<text text-anchor=\"middle\" x=\"48.97\" y=\"-199.32\" font-family=\"Times,serif\" font-size=\"14.00\">~</text>\n",
       "<text text-anchor=\"middle\" x=\"48.97\" y=\"-182.07\" font-family=\"Times,serif\" font-size=\"14.00\">Normal</text>\n",
       "</g>\n",
       "<!-- Xi -->\n",
       "<g id=\"node3\" class=\"node\">\n",
       "<title>Xi</title>\n",
       "<ellipse fill=\"lightgrey\" stroke=\"black\" cx=\"114.97\" cy=\"-83.5\" rx=\"48.97\" ry=\"42.25\"/>\n",
       "<text text-anchor=\"middle\" x=\"114.97\" y=\"-96.07\" font-family=\"Times,serif\" font-size=\"14.00\">Xi</text>\n",
       "<text text-anchor=\"middle\" x=\"114.97\" y=\"-78.82\" font-family=\"Times,serif\" font-size=\"14.00\">~</text>\n",
       "<text text-anchor=\"middle\" x=\"114.97\" y=\"-61.57\" font-family=\"Times,serif\" font-size=\"14.00\">Normal</text>\n",
       "</g>\n",
       "<!-- M&#45;&gt;Xi -->\n",
       "<g id=\"edge1\" class=\"edge\">\n",
       "<title>M&#45;&gt;Xi</title>\n",
       "<path fill=\"none\" stroke=\"black\" d=\"M69.85,-165.5C75.75,-154.91 82.25,-143.25 88.43,-132.15\"/>\n",
       "<polygon fill=\"black\" stroke=\"black\" points=\"91.45,-133.92 93.26,-123.48 85.33,-130.51 91.45,-133.92\"/>\n",
       "</g>\n",
       "<!-- S -->\n",
       "<g id=\"node2\" class=\"node\">\n",
       "<title>S</title>\n",
       "<ellipse fill=\"none\" stroke=\"black\" cx=\"181.97\" cy=\"-204\" rx=\"65.94\" ry=\"42.25\"/>\n",
       "<text text-anchor=\"middle\" x=\"181.97\" y=\"-216.57\" font-family=\"Times,serif\" font-size=\"14.00\">S</text>\n",
       "<text text-anchor=\"middle\" x=\"181.97\" y=\"-199.32\" font-family=\"Times,serif\" font-size=\"14.00\">~</text>\n",
       "<text text-anchor=\"middle\" x=\"181.97\" y=\"-182.07\" font-family=\"Times,serif\" font-size=\"14.00\">InvGamma</text>\n",
       "</g>\n",
       "<!-- S&#45;&gt;Xi -->\n",
       "<g id=\"edge2\" class=\"edge\">\n",
       "<title>S&#45;&gt;Xi</title>\n",
       "<path fill=\"none\" stroke=\"black\" d=\"M159.84,-163.87C154.07,-153.65 147.78,-142.53 141.79,-131.93\"/>\n",
       "<polygon fill=\"black\" stroke=\"black\" points=\"144.87,-130.28 136.9,-123.3 138.78,-133.72 144.87,-130.28\"/>\n",
       "</g>\n",
       "</g>\n",
       "</svg>\n"
      ],
      "text/plain": [
       "<graphviz.graphs.Digraph at 0x7fded60dcbd0>"
      ]
     },
     "execution_count": 2,
     "metadata": {},
     "output_type": "execute_result"
    }
   ],
   "source": [
    "import numpy as np\n",
    "N=200;rng = np.random.default_rng(seed=12345)\n",
    "X = rng.normal(loc=5.0, scale=2.0, size=N)\n",
    "\n",
    "import pymc as pm; from pymc import Model\n",
    "with Model() as my_model:  \n",
    "    M = pm.Normal(\"M\", mu = 0, sigma = 100) \n",
    "    S = pm.InverseGamma(\"S\", alpha = 0.001, beta = 0.001) \n",
    "    Xi = pm.Normal(\"Xi\", mu = M, sigma = S, observed = X )\n",
    "# import graphviz;import matplotlib as plt\n",
    "graph = pm.model_to_graphviz(my_model);graph.graph_attr.update(size='8,2');graph"
   ]
  },
  {
   "cell_type": "markdown",
   "id": "a9e11def",
   "metadata": {},
   "source": [
    "### 1.3. Posterior Sample & Posterior Distribution Plot\n",
    "\n",
    "Use `pymc.sample()` to draw a posterior sample from the model, and plot it using `pymc.plot_posterior()`. \n",
    "\n",
    "Compare the posterior to the true values of the parameters:\n",
    "As shown in the plot, the posterior distributions are centered around the true values of the parameters, and their 95% HDI contains the true values. If we had conditioned on mode observed values of X, the posterior densities would be even more concentrated around the true values."
   ]
  },
  {
   "cell_type": "code",
   "execution_count": 3,
   "id": "582085c5",
   "metadata": {},
   "outputs": [
    {
     "name": "stderr",
     "output_type": "stream",
     "text": [
      "Auto-assigning NUTS sampler...\n",
      "Initializing NUTS using jitter+adapt_diag...\n",
      "Multiprocess sampling (4 chains in 4 jobs)\n",
      "NUTS: [M, S]\n"
     ]
    },
    {
     "data": {
      "text/html": [
       "\n",
       "<style>\n",
       "    /* Turns off some styling */\n",
       "    progress {\n",
       "        /* gets rid of default border in Firefox and Opera. */\n",
       "        border: none;\n",
       "        /* Needs to be in here for Safari polyfill so background images work as expected. */\n",
       "        background-size: auto;\n",
       "    }\n",
       "    progress:not([value]), progress:not([value])::-webkit-progress-bar {\n",
       "        background: repeating-linear-gradient(45deg, #7e7e7e, #7e7e7e 10px, #5c5c5c 10px, #5c5c5c 20px);\n",
       "    }\n",
       "    .progress-bar-interrupted, .progress-bar-interrupted::-webkit-progress-bar {\n",
       "        background: #F44336;\n",
       "    }\n",
       "</style>\n"
      ],
      "text/plain": [
       "<IPython.core.display.HTML object>"
      ]
     },
     "metadata": {},
     "output_type": "display_data"
    },
    {
     "data": {
      "text/html": [
       "\n",
       "    <div>\n",
       "      <progress value='8000' class='' max='8000' style='width:300px; height:20px; vertical-align: middle;'></progress>\n",
       "      100.00% [8000/8000 00:01&lt;00:00 Sampling 4 chains, 0 divergences]\n",
       "    </div>\n",
       "    "
      ],
      "text/plain": [
       "<IPython.core.display.HTML object>"
      ]
     },
     "metadata": {},
     "output_type": "display_data"
    },
    {
     "name": "stderr",
     "output_type": "stream",
     "text": [
      "Sampling 4 chains for 1_000 tune and 1_000 draw iterations (4_000 + 4_000 draws total) took 2 seconds.\n"
     ]
    },
    {
     "data": {
      "text/plain": [
       "array([<Axes: title={'center': 'M'}>, <Axes: title={'center': 'S'}>],\n",
       "      dtype=object)"
      ]
     },
     "execution_count": 3,
     "metadata": {},
     "output_type": "execute_result"
    },
    {
     "data": {
      "image/png": "[encoded data removed]",
      "text/plain": [
       "<Figure size 1200x100 with 2 Axes>"
      ]
     },
     "metadata": {},
     "output_type": "display_data"
    }
   ],
   "source": [
    "import pymc as pm; from pymc import Model\n",
    "\n",
    "post_sample = pm.sample(model=my_model)\n",
    "pm.plot_posterior(post_sample, figsize=(12, 1)) "
   ]
  },
  {
   "cell_type": "markdown",
   "id": "9f168be0",
   "metadata": {},
   "source": [
    "### 1.4. Maximize A Posterior Probability (MAP) Estimates\n",
    "\n",
    "Note: Another approach to Baysian inference is to find the values of the (random) parameters that maximize their posterior density/probability; also known as [maximum-a-posteriori (MAP)](https://en.wikipedia.org/wiki/Maximum_a_posteriori_estimation) estimation. The function `pymc.find_MAP()` finds the MAP estimates of the unobserved variables in the model. As shown in below, the MAP estimates are very close to the true values of the parameters."
   ]
  },
  {
   "cell_type": "code",
   "execution_count": 4,
   "id": "fd6853c9",
   "metadata": {},
   "outputs": [
    {
     "data": {
      "text/html": [
       "\n",
       "<style>\n",
       "    /* Turns off some styling */\n",
       "    progress {\n",
       "        /* gets rid of default border in Firefox and Opera. */\n",
       "        border: none;\n",
       "        /* Needs to be in here for Safari polyfill so background images work as expected. */\n",
       "        background-size: auto;\n",
       "    }\n",
       "    progress:not([value]), progress:not([value])::-webkit-progress-bar {\n",
       "        background: repeating-linear-gradient(45deg, #7e7e7e, #7e7e7e 10px, #5c5c5c 10px, #5c5c5c 20px);\n",
       "    }\n",
       "    .progress-bar-interrupted, .progress-bar-interrupted::-webkit-progress-bar {\n",
       "        background: #F44336;\n",
       "    }\n",
       "</style>\n"
      ],
      "text/plain": [
       "<IPython.core.display.HTML object>"
      ]
     },
     "metadata": {},
     "output_type": "display_data"
    },
    {
     "data": {
      "text/html": [
       "\n",
       "    <div>\n",
       "      <progress value='37' class='' max='37' style='width:300px; height:20px; vertical-align: middle;'></progress>\n",
       "      100.00% [37/37 00:00&lt;00:00 logp = -426.69, ||grad|| = 7.561]\n",
       "    </div>\n",
       "    "
      ],
      "text/plain": [
       "<IPython.core.display.HTML object>"
      ]
     },
     "metadata": {},
     "output_type": "display_data"
    },
    {
     "name": "stdout",
     "output_type": "stream",
     "text": [
      "\n",
      "{'M': array(5.00664108), 'S_log__': array(0.64517774), 'S': array(1.90632583)}\n"
     ]
    }
   ],
   "source": [
    "import pymc as pm; from pymc import Model\n",
    "\n",
    "MAP = pm.find_MAP( model = my_model )\n",
    "print(MAP)"
   ]
  },
  {
   "cell_type": "markdown",
   "id": "7048ea23",
   "metadata": {},
   "source": [
    "# 2. Gaussian Naive Bayes Classifier\n",
    "## 2.1. Fit & Predict use sklearn\n",
    "Implement a Gaussian Naive Bayes classifier in `pymc`.\n",
    "    \n",
    "    a. Using the WDBC data, fit a Naive Bayes classifier with `sklearn.naive_bayes.GaussianNB()`on just two features: `'radius_m'` and `'fractal_dimension_m'`.\n",
    "    Fit the model on the training data defined below, and save the test data preditions.\n"
   ]
  },
  {
   "cell_type": "code",
   "execution_count": 5,
   "id": "98b13a20",
   "metadata": {},
   "outputs": [],
   "source": [
    "import pandas as pd;import numpy as np\n",
    "\n",
    "from sklearn.datasets import load_breast_cancer\n",
    "tmp = load_breast_cancer() # load dictinary of 'target' (y) and 'data' (X)  variables\n",
    "wdbc = pd.DataFrame( data= np.c_[ tmp['target'], tmp['data'] ], # make pandas DataFrame\n",
    "        columns= ['diagnosis', 'radius_m', 'texture_m', 'perimeter_m','area_m', 'smoothness_m', 'compactness_m', \n",
    "        'concavity_m','concave_points_m', 'symmetry_m', 'fractal_dimension_m','radius_se', 'texture_se', 'perimeter_se', \n",
    "        'area_se', 'smoothness_se','compactness_se', 'concavity_se', 'concave_points_se', 'symmetry_se',\n",
    "        'fractal_dimension_se', 'radius_w', 'texture_w','perimeter_w', 'area_w', 'smoothness_w','compactness_w', \n",
    "        'concavity_w', 'concave_points_w','symmetry_w', 'fractal_dimension_w'])\n",
    "X = wdbc[ ['radius_m','fractal_dimension_m'] ].to_numpy()\n",
    "y = wdbc['diagnosis'].to_numpy() # numerical (0/1) binary variable, diagnosis = 0.0 -> malignant; 1.0 -> benign; "
   ]
  },
  {
   "cell_type": "code",
   "execution_count": 6,
   "id": "cef3c7a7",
   "metadata": {},
   "outputs": [],
   "source": [
    "### Train Test split\n",
    "from sklearn.model_selection import train_test_split\n",
    "X_train, X_test, y_train, y_test = train_test_split( X, y, random_state = 12345, test_size=0.20 )\n",
    "\n",
    "### Naive Bayes classifier & model fit & predictions \n",
    "from sklearn.naive_bayes import GaussianNB \n",
    "clf_GNB = GaussianNB().fit( X_train, y_train)\n",
    "y_pred_GNB = clf_GNB.predict(X_test)"
   ]
  },
  {
   "cell_type": "markdown",
   "id": "5996e4a5",
   "metadata": {},
   "source": [
    "## 2.2. pymc method\n",
    "The following code creates a probabilistic model for the GNB classifier. \n",
    "$$ Y\\sim \\text{Bernoulli}(p),\\; X_i|Y \\sim  \\begin{cases} \n",
    "\\text{Normal} ( \\mu_{i,0}, \\sigma_{i,0}), & Y=0 \\\\ \n",
    "\\text{Normal} ( \\mu_{i,1}, \\sigma_{i,1}), & Y=1 \\\\\n",
    "\\end{cases}, \\;\\; \\forall i=1,\\ldots,D$$\n",
    "\n",
    "Note the use of the `pymc.NormalMixture()` function to implement the conditional feature distribution as a discrete mixture of two Normals, with 0-1 mixing weights defined by $Y$ (i.e., when $Y=0$, the weight ($1-Y$) for $\\text{Normal}(\\mu_{i,0},\\sigma_{i,0})$ is 1, and when $Y=1$, the weight ($Y$) for $\\text{Normal}(\\mu_{i,1},\\sigma_{i,1})$ is 1).\n",
    "Also note the use of the `pm.Data(mutable=True)` or `pm.MutableData()` to specify *mutable* observed features for the model, which can be changed without the need to re-define the model. This will come handy when we want to make out-of-sample predictions from the model. "
   ]
  },
  {
   "cell_type": "code",
   "execution_count": 7,
   "id": "1bf7538d",
   "metadata": {},
   "outputs": [
    {
     "data": {
      "image/svg+xml": [
       "<?xml version=\"1.0\" encoding=\"UTF-8\" standalone=\"no\"?>\n",
       "<!DOCTYPE svg PUBLIC \"-//W3C//DTD SVG 1.1//EN\"\n",
       " \"http://www.w3.org/Graphics/SVG/1.1/DTD/svg11.dtd\">\n",
       "<!-- Generated by graphviz version 9.0.0 (20231125.0833)\n",
       " -->\n",
       "<!-- Pages: 1 -->\n",
       "<svg width=\"193pt\" height=\"144pt\"\n",
       " viewBox=\"0.00 0.00 193.30 144.00\" xmlns=\"http://www.w3.org/2000/svg\" xmlns:xlink=\"http://www.w3.org/1999/xlink\">\n",
       "<g id=\"graph0\" class=\"graph\" transform=\"scale(0.466399 0.466399) rotate(0) translate(4 304.75)\">\n",
       "<polygon fill=\"white\" stroke=\"none\" points=\"-4,4 -4,-304.75 410.45,-304.75 410.45,4 -4,4\"/>\n",
       "<!-- X2 -->\n",
       "<g id=\"node1\" class=\"node\">\n",
       "<title>X2</title>\n",
       "<ellipse fill=\"lightgrey\" stroke=\"black\" cx=\"97.23\" cy=\"-138\" rx=\"97.23\" ry=\"42.25\"/>\n",
       "<text text-anchor=\"middle\" x=\"97.23\" y=\"-150.57\" font-family=\"Times,serif\" font-size=\"14.00\">X2</text>\n",
       "<text text-anchor=\"middle\" x=\"97.23\" y=\"-133.32\" font-family=\"Times,serif\" font-size=\"14.00\">~</text>\n",
       "<text text-anchor=\"middle\" x=\"97.23\" y=\"-116.07\" font-family=\"Times,serif\" font-size=\"14.00\">MarginalMixture</text>\n",
       "</g>\n",
       "<!-- X2_obs -->\n",
       "<g id=\"node2\" class=\"node\">\n",
       "<title>X2_obs</title>\n",
       "<path fill=\"lightgrey\" stroke=\"black\" d=\"M139.73,-59.75C139.73,-59.75 54.73,-59.75 54.73,-59.75 48.73,-59.75 42.73,-53.75 42.73,-47.75 42.73,-47.75 42.73,-12 42.73,-12 42.73,-6 48.73,0 54.73,0 54.73,0 139.73,0 139.73,0 145.73,0 151.73,-6 151.73,-12 151.73,-12 151.73,-47.75 151.73,-47.75 151.73,-53.75 145.73,-59.75 139.73,-59.75\"/>\n",
       "<text text-anchor=\"middle\" x=\"97.23\" y=\"-42.45\" font-family=\"Times,serif\" font-size=\"14.00\">X2_obs</text>\n",
       "<text text-anchor=\"middle\" x=\"97.23\" y=\"-25.2\" font-family=\"Times,serif\" font-size=\"14.00\">~</text>\n",
       "<text text-anchor=\"middle\" x=\"97.23\" y=\"-7.95\" font-family=\"Times,serif\" font-size=\"14.00\">MutableData</text>\n",
       "</g>\n",
       "<!-- X2&#45;&gt;X2_obs -->\n",
       "<g id=\"edge2\" class=\"edge\">\n",
       "<title>X2&#45;&gt;X2_obs</title>\n",
       "<path fill=\"none\" stroke=\"black\" d=\"M97.23,-95.36C97.23,-87.49 97.23,-79.28 97.23,-71.44\"/>\n",
       "<polygon fill=\"black\" stroke=\"black\" points=\"100.73,-71.46 97.23,-61.46 93.73,-71.46 100.73,-71.46\"/>\n",
       "</g>\n",
       "<!-- X1 -->\n",
       "<g id=\"node3\" class=\"node\">\n",
       "<title>X1</title>\n",
       "<ellipse fill=\"lightgrey\" stroke=\"black\" cx=\"309.23\" cy=\"-138\" rx=\"97.23\" ry=\"42.25\"/>\n",
       "<text text-anchor=\"middle\" x=\"309.23\" y=\"-150.57\" font-family=\"Times,serif\" font-size=\"14.00\">X1</text>\n",
       "<text text-anchor=\"middle\" x=\"309.23\" y=\"-133.32\" font-family=\"Times,serif\" font-size=\"14.00\">~</text>\n",
       "<text text-anchor=\"middle\" x=\"309.23\" y=\"-116.07\" font-family=\"Times,serif\" font-size=\"14.00\">MarginalMixture</text>\n",
       "</g>\n",
       "<!-- X1_obs -->\n",
       "<g id=\"node5\" class=\"node\">\n",
       "<title>X1_obs</title>\n",
       "<path fill=\"lightgrey\" stroke=\"black\" d=\"M351.73,-59.75C351.73,-59.75 266.73,-59.75 266.73,-59.75 260.73,-59.75 254.73,-53.75 254.73,-47.75 254.73,-47.75 254.73,-12 254.73,-12 254.73,-6 260.73,0 266.73,0 266.73,0 351.73,0 351.73,0 357.73,0 363.73,-6 363.73,-12 363.73,-12 363.73,-47.75 363.73,-47.75 363.73,-53.75 357.73,-59.75 351.73,-59.75\"/>\n",
       "<text text-anchor=\"middle\" x=\"309.23\" y=\"-42.45\" font-family=\"Times,serif\" font-size=\"14.00\">X1_obs</text>\n",
       "<text text-anchor=\"middle\" x=\"309.23\" y=\"-25.2\" font-family=\"Times,serif\" font-size=\"14.00\">~</text>\n",
       "<text text-anchor=\"middle\" x=\"309.23\" y=\"-7.95\" font-family=\"Times,serif\" font-size=\"14.00\">MutableData</text>\n",
       "</g>\n",
       "<!-- X1&#45;&gt;X1_obs -->\n",
       "<g id=\"edge1\" class=\"edge\">\n",
       "<title>X1&#45;&gt;X1_obs</title>\n",
       "<path fill=\"none\" stroke=\"black\" d=\"M309.23,-95.36C309.23,-87.49 309.23,-79.28 309.23,-71.44\"/>\n",
       "<polygon fill=\"black\" stroke=\"black\" points=\"312.73,-71.46 309.23,-61.46 305.73,-71.46 312.73,-71.46\"/>\n",
       "</g>\n",
       "<!-- Y -->\n",
       "<g id=\"node4\" class=\"node\">\n",
       "<title>Y</title>\n",
       "<ellipse fill=\"none\" stroke=\"black\" cx=\"203.23\" cy=\"-258.5\" rx=\"57.45\" ry=\"42.25\"/>\n",
       "<text text-anchor=\"middle\" x=\"203.23\" y=\"-271.07\" font-family=\"Times,serif\" font-size=\"14.00\">Y</text>\n",
       "<text text-anchor=\"middle\" x=\"203.23\" y=\"-253.82\" font-family=\"Times,serif\" font-size=\"14.00\">~</text>\n",
       "<text text-anchor=\"middle\" x=\"203.23\" y=\"-236.57\" font-family=\"Times,serif\" font-size=\"14.00\">Bernoulli</text>\n",
       "</g>\n",
       "<!-- Y&#45;&gt;X2 -->\n",
       "<g id=\"edge4\" class=\"edge\">\n",
       "<title>Y&#45;&gt;X2</title>\n",
       "<path fill=\"none\" stroke=\"black\" d=\"M172,-222.59C161.78,-211.16 150.25,-198.27 139.36,-186.1\"/>\n",
       "<polygon fill=\"black\" stroke=\"black\" points=\"142.23,-184.06 132.95,-178.94 137.01,-188.73 142.23,-184.06\"/>\n",
       "</g>\n",
       "<!-- Y&#45;&gt;X1 -->\n",
       "<g id=\"edge3\" class=\"edge\">\n",
       "<title>Y&#45;&gt;X1</title>\n",
       "<path fill=\"none\" stroke=\"black\" d=\"M234.46,-222.59C244.68,-211.16 256.21,-198.27 267.1,-186.1\"/>\n",
       "<polygon fill=\"black\" stroke=\"black\" points=\"269.44,-188.73 273.5,-178.94 264.22,-184.06 269.44,-188.73\"/>\n",
       "</g>\n",
       "</g>\n",
       "</svg>\n"
      ],
      "text/plain": [
       "<graphviz.graphs.Digraph at 0x7fdf28242550>"
      ]
     },
     "execution_count": 7,
     "metadata": {},
     "output_type": "execute_result"
    }
   ],
   "source": [
    "import pymc as pm; from pymc import Model\n",
    "\n",
    "p_Y = 0.5\n",
    "mu_1_0 = 0; mu_1_1 = 1; mu_2_0 = 0; mu_2_1 = 1; \n",
    "sigma_1_0 = 1; sigma_1_1 = 1; sigma_2_0 = 1; sigma_2_1 = 1; \n",
    "\n",
    "with Model() as my_model:  \n",
    "    X1_obs = pm.Data( \"X1_obs\", 0, mutable=True)\n",
    "    X2_obs = pm.Data( \"X2_obs\", 0, mutable=True)\n",
    "    Y = pm.Bernoulli(\"Y\", p = p_Y ) \n",
    "    X1 = pm.NormalMixture(\"X1\", w = [ 1-Y , Y ], mu = [ mu_1_0, mu_1_1], sigma = [ sigma_1_0, sigma_1_1 ],\n",
    "                          observed = X1_obs )\n",
    "    X2 = pm.NormalMixture(\"X2\", w = [ 1-Y , Y ], mu = [ mu_2_0, mu_2_1], sigma = [ sigma_2_0, sigma_2_1 ],\n",
    "                          observed = X2_obs )\n",
    "    \n",
    "# import graphviz; import matplotlib as plt\n",
    "graph = pm.model_to_graphviz(my_model);graph.graph_attr.update(size='8,2');graph"
   ]
  },
  {
   "cell_type": "markdown",
   "id": "2d546596",
   "metadata": {},
   "source": [
    "### 2.2.1. Probabilistic Model use Training Data\n",
    "Change the values of the model's parameters ($p_Y,\\mu_{1/2,0/1},\\sigma_{1/2,0/1}$) to the corresponding maximum likelihood estimates based on the training set. \n",
    "E.g., the probability $p_Y=P(Y=1)$ should be equal to the frequency of $Y=1$ in the training sample; the mean $\\mu_{1,0}$ should be equal to the average value of feature $X1$ over all values of $Y=0$ in the training sample, etc. "
   ]
  },
  {
   "cell_type": "code",
   "execution_count": 8,
   "id": "9db809a4",
   "metadata": {},
   "outputs": [
    {
     "data": {
      "image/svg+xml": [
       "<?xml version=\"1.0\" encoding=\"UTF-8\" standalone=\"no\"?>\n",
       "<!DOCTYPE svg PUBLIC \"-//W3C//DTD SVG 1.1//EN\"\n",
       " \"http://www.w3.org/Graphics/SVG/1.1/DTD/svg11.dtd\">\n",
       "<!-- Generated by graphviz version 9.0.0 (20231125.0833)\n",
       " -->\n",
       "<!-- Pages: 1 -->\n",
       "<svg width=\"193pt\" height=\"144pt\"\n",
       " viewBox=\"0.00 0.00 193.30 144.00\" xmlns=\"http://www.w3.org/2000/svg\" xmlns:xlink=\"http://www.w3.org/1999/xlink\">\n",
       "<g id=\"graph0\" class=\"graph\" transform=\"scale(0.466399 0.466399) rotate(0) translate(4 304.75)\">\n",
       "<polygon fill=\"white\" stroke=\"none\" points=\"-4,4 -4,-304.75 410.45,-304.75 410.45,4 -4,4\"/>\n",
       "<!-- X2 -->\n",
       "<g id=\"node1\" class=\"node\">\n",
       "<title>X2</title>\n",
       "<ellipse fill=\"lightgrey\" stroke=\"black\" cx=\"97.23\" cy=\"-138\" rx=\"97.23\" ry=\"42.25\"/>\n",
       "<text text-anchor=\"middle\" x=\"97.23\" y=\"-150.57\" font-family=\"Times,serif\" font-size=\"14.00\">X2</text>\n",
       "<text text-anchor=\"middle\" x=\"97.23\" y=\"-133.32\" font-family=\"Times,serif\" font-size=\"14.00\">~</text>\n",
       "<text text-anchor=\"middle\" x=\"97.23\" y=\"-116.07\" font-family=\"Times,serif\" font-size=\"14.00\">MarginalMixture</text>\n",
       "</g>\n",
       "<!-- X2_obs -->\n",
       "<g id=\"node2\" class=\"node\">\n",
       "<title>X2_obs</title>\n",
       "<path fill=\"lightgrey\" stroke=\"black\" d=\"M139.73,-59.75C139.73,-59.75 54.73,-59.75 54.73,-59.75 48.73,-59.75 42.73,-53.75 42.73,-47.75 42.73,-47.75 42.73,-12 42.73,-12 42.73,-6 48.73,0 54.73,0 54.73,0 139.73,0 139.73,0 145.73,0 151.73,-6 151.73,-12 151.73,-12 151.73,-47.75 151.73,-47.75 151.73,-53.75 145.73,-59.75 139.73,-59.75\"/>\n",
       "<text text-anchor=\"middle\" x=\"97.23\" y=\"-42.45\" font-family=\"Times,serif\" font-size=\"14.00\">X2_obs</text>\n",
       "<text text-anchor=\"middle\" x=\"97.23\" y=\"-25.2\" font-family=\"Times,serif\" font-size=\"14.00\">~</text>\n",
       "<text text-anchor=\"middle\" x=\"97.23\" y=\"-7.95\" font-family=\"Times,serif\" font-size=\"14.00\">MutableData</text>\n",
       "</g>\n",
       "<!-- X2&#45;&gt;X2_obs -->\n",
       "<g id=\"edge2\" class=\"edge\">\n",
       "<title>X2&#45;&gt;X2_obs</title>\n",
       "<path fill=\"none\" stroke=\"black\" d=\"M97.23,-95.36C97.23,-87.49 97.23,-79.28 97.23,-71.44\"/>\n",
       "<polygon fill=\"black\" stroke=\"black\" points=\"100.73,-71.46 97.23,-61.46 93.73,-71.46 100.73,-71.46\"/>\n",
       "</g>\n",
       "<!-- X1 -->\n",
       "<g id=\"node3\" class=\"node\">\n",
       "<title>X1</title>\n",
       "<ellipse fill=\"lightgrey\" stroke=\"black\" cx=\"309.23\" cy=\"-138\" rx=\"97.23\" ry=\"42.25\"/>\n",
       "<text text-anchor=\"middle\" x=\"309.23\" y=\"-150.57\" font-family=\"Times,serif\" font-size=\"14.00\">X1</text>\n",
       "<text text-anchor=\"middle\" x=\"309.23\" y=\"-133.32\" font-family=\"Times,serif\" font-size=\"14.00\">~</text>\n",
       "<text text-anchor=\"middle\" x=\"309.23\" y=\"-116.07\" font-family=\"Times,serif\" font-size=\"14.00\">MarginalMixture</text>\n",
       "</g>\n",
       "<!-- X1_obs -->\n",
       "<g id=\"node5\" class=\"node\">\n",
       "<title>X1_obs</title>\n",
       "<path fill=\"lightgrey\" stroke=\"black\" d=\"M351.73,-59.75C351.73,-59.75 266.73,-59.75 266.73,-59.75 260.73,-59.75 254.73,-53.75 254.73,-47.75 254.73,-47.75 254.73,-12 254.73,-12 254.73,-6 260.73,0 266.73,0 266.73,0 351.73,0 351.73,0 357.73,0 363.73,-6 363.73,-12 363.73,-12 363.73,-47.75 363.73,-47.75 363.73,-53.75 357.73,-59.75 351.73,-59.75\"/>\n",
       "<text text-anchor=\"middle\" x=\"309.23\" y=\"-42.45\" font-family=\"Times,serif\" font-size=\"14.00\">X1_obs</text>\n",
       "<text text-anchor=\"middle\" x=\"309.23\" y=\"-25.2\" font-family=\"Times,serif\" font-size=\"14.00\">~</text>\n",
       "<text text-anchor=\"middle\" x=\"309.23\" y=\"-7.95\" font-family=\"Times,serif\" font-size=\"14.00\">MutableData</text>\n",
       "</g>\n",
       "<!-- X1&#45;&gt;X1_obs -->\n",
       "<g id=\"edge1\" class=\"edge\">\n",
       "<title>X1&#45;&gt;X1_obs</title>\n",
       "<path fill=\"none\" stroke=\"black\" d=\"M309.23,-95.36C309.23,-87.49 309.23,-79.28 309.23,-71.44\"/>\n",
       "<polygon fill=\"black\" stroke=\"black\" points=\"312.73,-71.46 309.23,-61.46 305.73,-71.46 312.73,-71.46\"/>\n",
       "</g>\n",
       "<!-- Y -->\n",
       "<g id=\"node4\" class=\"node\">\n",
       "<title>Y</title>\n",
       "<ellipse fill=\"none\" stroke=\"black\" cx=\"203.23\" cy=\"-258.5\" rx=\"57.45\" ry=\"42.25\"/>\n",
       "<text text-anchor=\"middle\" x=\"203.23\" y=\"-271.07\" font-family=\"Times,serif\" font-size=\"14.00\">Y</text>\n",
       "<text text-anchor=\"middle\" x=\"203.23\" y=\"-253.82\" font-family=\"Times,serif\" font-size=\"14.00\">~</text>\n",
       "<text text-anchor=\"middle\" x=\"203.23\" y=\"-236.57\" font-family=\"Times,serif\" font-size=\"14.00\">Bernoulli</text>\n",
       "</g>\n",
       "<!-- Y&#45;&gt;X2 -->\n",
       "<g id=\"edge4\" class=\"edge\">\n",
       "<title>Y&#45;&gt;X2</title>\n",
       "<path fill=\"none\" stroke=\"black\" d=\"M172,-222.59C161.78,-211.16 150.25,-198.27 139.36,-186.1\"/>\n",
       "<polygon fill=\"black\" stroke=\"black\" points=\"142.23,-184.06 132.95,-178.94 137.01,-188.73 142.23,-184.06\"/>\n",
       "</g>\n",
       "<!-- Y&#45;&gt;X1 -->\n",
       "<g id=\"edge3\" class=\"edge\">\n",
       "<title>Y&#45;&gt;X1</title>\n",
       "<path fill=\"none\" stroke=\"black\" d=\"M234.46,-222.59C244.68,-211.16 256.21,-198.27 267.1,-186.1\"/>\n",
       "<polygon fill=\"black\" stroke=\"black\" points=\"269.44,-188.73 273.5,-178.94 264.22,-184.06 269.44,-188.73\"/>\n",
       "</g>\n",
       "</g>\n",
       "</svg>\n"
      ],
      "text/plain": [
       "<graphviz.graphs.Digraph at 0x7fdf283e4610>"
      ]
     },
     "execution_count": 8,
     "metadata": {},
     "output_type": "execute_result"
    }
   ],
   "source": [
    "import pymc as pm; from pymc import Model\n",
    "\n",
    "p_Y = y_train.mean()\n",
    "mu_1_0 = X_train[ (y_train == 0), 0].mean(); mu_1_1 = X_train[ (y_train == 1), 0].mean(); \n",
    "mu_2_0 = X_train[ (y_train == 0), 1].mean(); mu_2_1 = X_train[ (y_train == 1), 1].mean(); \n",
    "sigma_1_0 = X_train[ (y_train == 0), 0].std(); sigma_1_1 = X_train[ (y_train == 1), 0].std(); \n",
    "sigma_2_0 = X_train[ (y_train == 0), 1].std(); sigma_2_1 = X_train[ (y_train == 1), 1].std(); \n",
    "\n",
    "with Model() as my_model:  \n",
    "    X1_obs = pm.Data( \"X1_obs\", 0,mutable=True)\n",
    "    X2_obs = pm.Data( \"X2_obs\", 0,mutable=True)\n",
    "    Y = pm.Bernoulli(\"Y\", p = p_Y ) \n",
    "    X1 = pm.NormalMixture(\"X1\",w = [ 1-Y , Y ], mu = [ mu_1_0, mu_1_1], sigma = [ sigma_1_0, sigma_1_1 ],\n",
    "                          observed = X1_obs )\n",
    "    X2 = pm.NormalMixture(\"X2\", w = [ 1-Y , Y ] ,mu = [ mu_2_0, mu_2_1], sigma = [ sigma_2_0, sigma_2_1 ],\n",
    "                          observed = X2_obs )\n",
    "\n",
    "# import graphviz; import matplotlib as plt\n",
    "graph = pm.model_to_graphviz(my_model);graph.graph_attr.update(size='8,2');graph    "
   ]
  },
  {
   "cell_type": "markdown",
   "id": "8a1d3eae",
   "metadata": {},
   "source": [
    "### 2.2.2. Probabilistic Model MAP Predictions\n",
    "We can use this probabilistic model for classification. For Naive Bayes, the predicted class is the maximum-a-posteriori (MAP) estimate for $Y$ given the features $X_1,X_2$. \n",
    "Because $Y$ is categorical, we will optimize the posterior by comparing all possible values, and picking the value of $Y$ giving the highest posterior likelihood.\n",
    "\n",
    "The following code sets the observed feature values to be the first instance in the test set, then calculates the (posterior) log-likelihood for both $Y=0$ and $Y=1$, and then picks the $Y$ value that gives the highest log-likelihood (i.e., the MAP estimate for $Y$ for these features)."
   ]
  },
  {
   "cell_type": "code",
   "execution_count": 9,
   "id": "f84538df",
   "metadata": {},
   "outputs": [
    {
     "name": "stdout",
     "output_type": "stream",
     "text": [
      "loglikelihood of Y=0 is 0.009042451690249198\n",
      "loglikelihood of Y=1 is 1.9724690504735132\n",
      "MAP prediction for 1st test data: 1.0\n"
     ]
    }
   ],
   "source": [
    "### example: MAP prediction for 1 test data\n",
    "\n",
    "# Set observed values for features \n",
    "my_model.set_data(\"X1_obs\", X_test[0,0]);my_model.set_data(\"X2_obs\", X_test[0,1]) \n",
    "\n",
    "# Compile model likelihood for observed data \n",
    "log_likelihood = my_model.compile_logp() \n",
    "print(\"loglikelihood of Y=0 is\" ,log_likelihood({'Y': 0 })); print(\"loglikelihood of Y=1 is\", log_likelihood({'Y': 1 }) )\n",
    "\n",
    "# Calculate MAP prediction for Y\n",
    "MAP = (log_likelihood({'Y': 0 }) < log_likelihood({'Y':1}))*1.0 \n",
    "print( \"MAP prediction for 1st test data:\", MAP )"
   ]
  },
  {
   "cell_type": "markdown",
   "id": "2e386570",
   "metadata": {},
   "source": [
    "Create a for loop to run this process over all data on the test set, and store your MAP predictions in an array. \n",
    "Compare the out-of-sample predictions you got from `sklearn.naive_bayes.GaussianNB()` to the ones from this PGM with `pymc`; they should be identical."
   ]
  },
  {
   "cell_type": "code",
   "execution_count": 10,
   "id": "24c3d35a",
   "metadata": {},
   "outputs": [
    {
     "data": {
      "text/plain": [
       "array([ True,  True,  True,  True,  True,  True,  True,  True,  True,\n",
       "        True,  True,  True,  True,  True,  True,  True,  True,  True,\n",
       "        True,  True,  True,  True,  True,  True,  True,  True,  True,\n",
       "        True,  True,  True,  True,  True,  True,  True,  True,  True,\n",
       "        True,  True,  True,  True,  True,  True,  True,  True,  True,\n",
       "        True,  True,  True,  True,  True,  True,  True,  True,  True,\n",
       "        True,  True,  True,  True,  True,  True,  True,  True,  True,\n",
       "        True,  True,  True,  True,  True,  True,  True,  True,  True,\n",
       "        True,  True,  True,  True,  True,  True,  True,  True,  True,\n",
       "        True,  True,  True,  True,  True,  True,  True,  True,  True,\n",
       "        True,  True,  True,  True,  True,  True,  True,  True,  True,\n",
       "        True,  True,  True,  True,  True,  True,  True,  True,  True,\n",
       "        True,  True,  True,  True,  True,  True])"
      ]
     },
     "execution_count": 10,
     "metadata": {},
     "output_type": "execute_result"
    }
   ],
   "source": [
    "### MAP predictions for all test data\n",
    "y_pred_PGM = []\n",
    "for i in range( X_test.shape[0] ):\n",
    "    my_model.set_data(\"X1_obs\", X_test[i,0]) # set observed values for features \n",
    "    my_model.set_data(\"X2_obs\", X_test[i,1])\n",
    "    log_likelihood = my_model.compile_logp() # compile model likelihood for observed data \n",
    "    y_pred_PGM.append( (log_likelihood({'Y': 0 }) < log_likelihood({'Y':1}))*1.0 ) \n",
    "\n",
    "np.array( y_pred_PGM ) == y_pred_GNB   "
   ]
  }
 ],
 "metadata": {
  "kernelspec": {
   "display_name": "Python 3 (ipykernel)",
   "language": "python",
   "name": "python3"
  },
  "language_info": {
   "codemirror_mode": {
    "name": "ipython",
    "version": 3
   },
   "file_extension": ".py",
   "mimetype": "text/x-python",
   "name": "python",
   "nbconvert_exporter": "python",
   "pygments_lexer": "ipython3",
   "version": "3.11.6"
  }
 },
 "nbformat": 4,
 "nbformat_minor": 5
}
