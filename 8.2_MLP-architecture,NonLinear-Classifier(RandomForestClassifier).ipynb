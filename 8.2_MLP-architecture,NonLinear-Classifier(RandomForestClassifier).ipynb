{
 "cells": [
  {
   "cell_type": "markdown",
   "metadata": {
    "id": "E2jhapYoxuDb"
   },
   "source": [
    "# MLP architecture & Fit Non-Linear Classifier (Random Forest classifier)\n",
    "\n",
    "\n",
    "Comments:\n",
    "1. Derivative of the *cross-entropy* loss ($\\mathcal{L}$) with a *soft-max* activation function ($\\sigma$). More specifically, show that for\n",
    "$$\\mathcal{L}( \\pmb{y},\\sigma(\\pmb{x})) = - \\sum_{k=1}^K y_k \\log( \\sigma(\\pmb{x})_k ) = - \\sum_{k=1}^K y_k \\log\\left( \\frac{ e^{x_k} }{ \\sum_{j=1}^K e^{x_j} } \\right) $$\n",
    "we have:\n",
    "$$\\frac{\\partial \\mathcal{L}}{\\partial x_i}  = \\sigma(\\pmb{x})_i - y_i = \\left( \\frac{ e^{x_i} }{ \\sum_{j=1}^K e^{x_j} } \\right) - y_i$$\n"
   ]
  },
  {
   "cell_type": "markdown",
   "metadata": {
    "id": "mNu27q2hxuDe"
   },
   "source": [
    "## 1. MLP architecture example\n",
    "\n",
    "Consider again the MNIST data set and fit an MLP with the same number & size of layers (64, 32, & 10), but use *sigmoid* [activation function](https://www.tensorflow.org/api_docs/python/tf/keras/activations) for the first two layers, and the Mean Squared Error [loss function(https://www.tensorflow.org/api_docs/python/tf/keras/losses)] at the end. Compare the test sample performance of this MLP to the more typical MLP with ReLU activation & CrossEntropy loss used in the WS8."
   ]
  },
  {
   "cell_type": "code",
   "execution_count": 8,
   "metadata": {
    "colab": {
     "base_uri": "https://localhost:8080/",
     "height": 0
    },
    "id": "tjGL7xirxuDe",
    "outputId": "2c0143a9-0fc1-49de-b208-c3104ec0f3ea"
   },
   "outputs": [
    {
     "name": "stdout",
     "output_type": "stream",
     "text": [
      "Epoch 1/3\n",
      "\u001b[1m1875/1875\u001b[0m \u001b[32m━━━━━━━━━━━━━━━━━━━━\u001b[0m\u001b[37m\u001b[0m \u001b[1m5s\u001b[0m 2ms/step - accuracy: 0.1680 - loss: 0.0907\n",
      "Epoch 2/3\n",
      "\u001b[1m1875/1875\u001b[0m \u001b[32m━━━━━━━━━━━━━━━━━━━━\u001b[0m\u001b[37m\u001b[0m \u001b[1m4s\u001b[0m 2ms/step - accuracy: 0.3397 - loss: 0.0833\n",
      "Epoch 3/3\n",
      "\u001b[1m1875/1875\u001b[0m \u001b[32m━━━━━━━━━━━━━━━━━━━━\u001b[0m\u001b[37m\u001b[0m \u001b[1m6s\u001b[0m 3ms/step - accuracy: 0.4924 - loss: 0.0746\n",
      "\u001b[1m313/313\u001b[0m \u001b[32m━━━━━━━━━━━━━━━━━━━━\u001b[0m\u001b[37m\u001b[0m \u001b[1m1s\u001b[0m 2ms/step - accuracy: 0.5369 - loss: 0.0682\n",
      "Tensor flow: Average test loss = 0.06729047000408173 and Average test accuracy =  0.5479000210762024\n"
     ]
    }
   ],
   "source": [
    "import tensorflow as tf;import numpy as np\n",
    "\n",
    "(x_train, y_train), (x_test, y_test) = tf.keras.datasets.mnist.load_data()\n",
    "\n",
    "# Pre-processing: Normalize the images\n",
    "x_train, x_test = x_train / 255.0, x_test / 255.0\n",
    "mean = x_train.mean(); std = x_train.std()\n",
    "x_train, x_test = (x_train - mean) / std, (x_test - mean) / std\n",
    "# convert the labels to one-hot encoding\n",
    "y_train_oh = tf.keras.utils.to_categorical(y_train, 10)\n",
    "y_test_oh = tf.keras.utils.to_categorical(y_test, 10)\n",
    "\n",
    "# minin batches\n",
    "train_dataset = tf.data.Dataset.from_tensor_slices((x_train, y_train_oh)).batch(128)\n",
    "test_dataset = tf.data.Dataset.from_tensor_slices((x_test, y_test_oh)).batch(1024)\n",
    "\n",
    "## your code here\n",
    "\n",
    "# Define the model architecture\n",
    "model_tf = tf.keras.models.Sequential([\n",
    "    tf.keras.layers.Flatten(),\n",
    "    tf.keras.layers.Dense(64, activation='sigmoid'),\n",
    "    tf.keras.layers.Dense(32, activation='sigmoid'),\n",
    "    tf.keras.layers.Dense(10),\n",
    "    tf.keras.layers.Softmax()\n",
    "    ])\n",
    "# Define the loss function\n",
    "loss_fn = tf.keras.losses.MeanSquaredError()\n",
    "\n",
    "# Compile the model with the optimizer, loss function, and metrics\n",
    "model_tf.compile(optimizer=tf.keras.optimizers.SGD(learning_rate=0.1), loss=loss_fn, metrics=['accuracy'])\n",
    "model_tf.fit(x_train, y_train_oh, epochs=3 )\n",
    "\n",
    "# Evaluate the model on the test data\n",
    "tf_test_loss, tf_test_acc = model_tf.evaluate(x_test,  y_test_oh)\n",
    "avg_tf_test_loss = np.mean(tf_test_loss) ; avg_tf_test_acc = np.mean(tf_test_acc)\n",
    "print(\"Tensor flow: Average test loss =\",avg_tf_test_loss, \"and Average test accuracy = \",avg_tf_test_acc)\n",
    "\n",
    "# The test set accuracy is around 56% which is not good.\n",
    "# The model is not learning well because the loss function is not appropriate for the problem."
   ]
  },
  {
   "cell_type": "markdown",
   "metadata": {
    "id": "QrlYwROYxuDg"
   },
   "source": [
    "## 2. Fit Non-Linear Classifier (Random Forest classifier)\n",
    "Take a subset of the MNIST data and fit a *traditional* non-linear classifier such as the Random Forest classifier (RFC). Fit the RFC to the MNIST training data (use `sklearn.ensemble.RandomForestClassifier()`) and report its accuracy on the test data. Make sure to **flatten** the **images** into a $60,000 \\times 784$ matrix before feeding them to the funciton, and also use the categorical instead of the one-hot responses (`y_train` instead of `y_train_oh`).\n"
   ]
  },
  {
   "cell_type": "code",
   "execution_count": 9,
   "metadata": {
    "colab": {
     "base_uri": "https://localhost:8080/",
     "height": 0
    },
    "id": "Ezx5J224xuDg",
    "outputId": "0a80a14c-7f4d-4799-95d7-499dc8a48fa1"
   },
   "outputs": [
    {
     "name": "stdout",
     "output_type": "stream",
     "text": [
      "Random Forest Classifier Accuracy: 0.9704\n"
     ]
    }
   ],
   "source": [
    "from sklearn.ensemble import RandomForestClassifier\n",
    "from sklearn.metrics import accuracy_score\n",
    "\n",
    "# Flatten the images for the Random Forest classifier\n",
    "x_train_flat = x_train.reshape(x_train.shape[0], -1)\n",
    "x_test_flat = x_test.reshape(x_test.shape[0], -1)\n",
    "\n",
    "## your code here\n",
    "\n",
    "# Initialize the Random Forest classifier\n",
    "rf_clf = RandomForestClassifier(n_estimators=100, random_state=42)\n",
    "\n",
    "# Fit the classifier to the training data\n",
    "rf_clf.fit(x_train_flat, y_train)\n",
    "\n",
    "# Predict on the test data\n",
    "y_pred_rf = rf_clf.predict(x_test_flat)\n",
    "\n",
    "# Calculate the accuracy\n",
    "rf_accuracy = accuracy_score(y_test, y_pred_rf)\n",
    "print(f\"Random Forest Classifier Accuracy: {rf_accuracy}\")\n",
    "\n",
    "## The Random Forest classifier has an accuracy of 96% which is comparable to the MLP"
   ]
  },
  {
   "cell_type": "markdown",
   "metadata": {
    "id": "JkM69En5xuDg"
   },
   "source": [
    "## 3. MLP architecture example\n",
    "Q3. We will now try our MLP on the somewhat more complex [CIFAR-10](https://en.wikipedia.org/wiki/CIFAR-10) data set. The data set consists of 60,000 32x32 color images of 10 different objects/classes (airplanes, cars, birds, cats, deer, dogs, frogs, horses, ships, and trucks), split into 50,000 training and 10,000 test cases. The following code loads and plots the first 3 images in the data set:"
   ]
  },
  {
   "cell_type": "code",
   "execution_count": 10,
   "metadata": {
    "colab": {
     "base_uri": "https://localhost:8080/",
     "height": 173
    },
    "id": "Bl7KheXGxuDg",
    "outputId": "f743c8fa-f4a1-4ac1-b1e3-a9a53c351aef"
   },
   "outputs": [
    {
     "data": {
      "image/png": "[encoded data removed]",
      "text/plain": [
       "<Figure size 500x200 with 3 Axes>"
      ]
     },
     "metadata": {},
     "output_type": "display_data"
    }
   ],
   "source": [
    "import matplotlib.pyplot as plt;import math;import tensorflow as tf;import numpy as np\n",
    "\n",
    "# Load the CIFAR-10 dataset\n",
    "(x_train, y_train), (x_test, y_test) = tf.keras.datasets.cifar10.load_data()\n",
    "\n",
    "# Normalize pixel values to be between 0 and 1\n",
    "x_train, x_test = x_train / 255.0, x_test / 255.0\n",
    "\n",
    "class_names = ['airplane', 'automobile', 'bird', 'cat', 'deer', 'dog', 'frog', 'horse', 'ship', 'truck']\n",
    "\n",
    "plt.figure(figsize=(5, 2))\n",
    "for i in range(3):\n",
    "    plt.subplot(1, 3, i+1); plt.xticks([]); plt.yticks([]);plt.grid(False)\n",
    "    plt.imshow(x_train[i]); plt.title(class_names[y_train[i][0]])\n",
    "plt.show()"
   ]
  },
  {
   "cell_type": "markdown",
   "metadata": {
    "id": "1G87uqVexuDh"
   },
   "source": [
    "Specify and fit the same MLP architecture we used for the MNIST character recognition data to the CIFAR-10 data, and report the training (in-sample) and test set accuracy; what do you observe?"
   ]
  },
  {
   "cell_type": "code",
   "execution_count": 11,
   "metadata": {
    "colab": {
     "base_uri": "https://localhost:8080/",
     "height": 0
    },
    "id": "OQ1SWL08xuDh",
    "outputId": "3675b34a-3bf2-47c0-9b16-3939e41e3837"
   },
   "outputs": [
    {
     "name": "stdout",
     "output_type": "stream",
     "text": [
      "Epoch 1/10\n",
      "\u001b[1m1563/1563\u001b[0m \u001b[32m━━━━━━━━━━━━━━━━━━━━\u001b[0m\u001b[37m\u001b[0m \u001b[1m6s\u001b[0m 3ms/step - accuracy: 0.2287 - loss: 2.0826\n",
      "Epoch 2/10\n",
      "\u001b[1m1563/1563\u001b[0m \u001b[32m━━━━━━━━━━━━━━━━━━━━\u001b[0m\u001b[37m\u001b[0m \u001b[1m6s\u001b[0m 4ms/step - accuracy: 0.3264 - loss: 1.8473\n",
      "Epoch 3/10\n",
      "\u001b[1m1563/1563\u001b[0m \u001b[32m━━━━━━━━━━━━━━━━━━━━\u001b[0m\u001b[37m\u001b[0m \u001b[1m5s\u001b[0m 3ms/step - accuracy: 0.3552 - loss: 1.7895\n",
      "Epoch 4/10\n",
      "\u001b[1m1563/1563\u001b[0m \u001b[32m━━━━━━━━━━━━━━━━━━━━\u001b[0m\u001b[37m\u001b[0m \u001b[1m6s\u001b[0m 4ms/step - accuracy: 0.3658 - loss: 1.7562\n",
      "Epoch 5/10\n",
      "\u001b[1m1563/1563\u001b[0m \u001b[32m━━━━━━━━━━━━━━━━━━━━\u001b[0m\u001b[37m\u001b[0m \u001b[1m9s\u001b[0m 4ms/step - accuracy: 0.3763 - loss: 1.7345\n",
      "Epoch 6/10\n",
      "\u001b[1m1563/1563\u001b[0m \u001b[32m━━━━━━━━━━━━━━━━━━━━\u001b[0m\u001b[37m\u001b[0m \u001b[1m10s\u001b[0m 3ms/step - accuracy: 0.3862 - loss: 1.7048\n",
      "Epoch 7/10\n",
      "\u001b[1m1563/1563\u001b[0m \u001b[32m━━━━━━━━━━━━━━━━━━━━\u001b[0m\u001b[37m\u001b[0m \u001b[1m6s\u001b[0m 4ms/step - accuracy: 0.3934 - loss: 1.6887\n",
      "Epoch 8/10\n",
      "\u001b[1m1563/1563\u001b[0m \u001b[32m━━━━━━━━━━━━━━━━━━━━\u001b[0m\u001b[37m\u001b[0m \u001b[1m5s\u001b[0m 3ms/step - accuracy: 0.3992 - loss: 1.6827\n",
      "Epoch 9/10\n",
      "\u001b[1m1563/1563\u001b[0m \u001b[32m━━━━━━━━━━━━━━━━━━━━\u001b[0m\u001b[37m\u001b[0m \u001b[1m6s\u001b[0m 4ms/step - accuracy: 0.4063 - loss: 1.6483\n",
      "Epoch 10/10\n",
      "\u001b[1m1563/1563\u001b[0m \u001b[32m━━━━━━━━━━━━━━━━━━━━\u001b[0m\u001b[37m\u001b[0m \u001b[1m9s\u001b[0m 3ms/step - accuracy: 0.4079 - loss: 1.6443\n",
      "\u001b[1m313/313\u001b[0m \u001b[32m━━━━━━━━━━━━━━━━━━━━\u001b[0m\u001b[37m\u001b[0m \u001b[1m1s\u001b[0m 3ms/step - accuracy: 0.3805 - loss: 1.7285\n",
      "Tensor flow: Average test loss = 1.7414418458938599 and Average test accuracy =  0.38029998540878296\n"
     ]
    }
   ],
   "source": [
    "import matplotlib.pyplot as plt;import math;import tensorflow as tf;import numpy as np\n",
    "# minin batches\n",
    "train_dataset = tf.data.Dataset.from_tensor_slices((x_train, y_train)).batch(128)\n",
    "test_dataset = tf.data.Dataset.from_tensor_slices((x_test, y_test)).batch(1024)\n",
    "\n",
    "# Define the model architecture\n",
    "model_tf = tf.keras.models.Sequential([\n",
    "    tf.keras.layers.Flatten(),\n",
    "    tf.keras.layers.Dense(64, activation='relu'),\n",
    "    tf.keras.layers.Dense(32, activation='relu'),\n",
    "    tf.keras.layers.Dense(10),\n",
    "    tf.keras.layers.Softmax()\n",
    "    ])\n",
    "\n",
    "# Define the loss function\n",
    "loss_fn = tf.keras.losses.SparseCategoricalCrossentropy()\n",
    "\n",
    "# Compile the model with the optimizer, loss function, and metrics\n",
    "model_tf.compile(optimizer=tf.keras.optimizers.SGD(learning_rate=0.1), loss=loss_fn, metrics=['accuracy'])\n",
    "\n",
    "# Train the model\n",
    "history = model_tf.fit(x_train, y_train, epochs=10 )\n",
    "\n",
    "# Evaluate the model on the test data\n",
    "tf_test_loss, tf_test_acc = model_tf.evaluate(x_test,  y_test)\n",
    "avg_tf_test_loss = np.mean(tf_test_loss) ; avg_tf_test_acc = np.mean(tf_test_acc)\n",
    "print(\"Tensor flow: Average test loss =\",avg_tf_test_loss, \"and Average test accuracy = \",avg_tf_test_acc)"
   ]
  },
  {
   "cell_type": "code",
   "execution_count": 12,
   "metadata": {
    "colab": {
     "base_uri": "https://localhost:8080/",
     "height": 273
    },
    "id": "Wu7XmuRixuDh",
    "outputId": "3a35f844-e6df-4891-b4ff-833ede6be05c"
   },
   "outputs": [
    {
     "name": "stdout",
     "output_type": "stream",
     "text": [
      "Test accuracy: 0.3803\n"
     ]
    },
    {
     "data": {
      "image/png": "[encoded data removed]",
      "text/plain": [
       "<Figure size 500x200 with 1 Axes>"
      ]
     },
     "metadata": {},
     "output_type": "display_data"
    }
   ],
   "source": [
    "plt.figure(figsize=(5, 2))\n",
    "plt.plot(history.history['accuracy'], label='accuracy')\n",
    "plt.xlabel('Epoch'); plt.ylabel('Accuracy'),\n",
    "plt.title('Training Accuracy by Epoch')\n",
    "\n",
    "print(f\"Test accuracy: {round(tf_test_acc,4)}\")\n",
    "\n",
    "# The resulting accuracy for CIFAR-10 is much lower than that of MNIST\n",
    "# The in-sample accuracy is below 50%, and the out-of-sample is below <40%"
   ]
  },
  {
   "cell_type": "code",
   "execution_count": 13,
   "metadata": {
    "colab": {
     "base_uri": "https://localhost:8080/",
     "height": 305
    },
    "id": "DAnH0LFZxuDi",
    "outputId": "fb7b61d2-7f98-40a7-d585-17744ba380f8"
   },
   "outputs": [
    {
     "data": {
      "text/html": [
       "<pre style=\"white-space:pre;overflow-x:auto;line-height:normal;font-family:Menlo,'DejaVu Sans Mono',consolas,'Courier New',monospace\"><span style=\"font-weight: bold\">Model: \"sequential_3\"</span>\n",
       "</pre>\n"
      ],
      "text/plain": [
       "\u001b[1mModel: \"sequential_3\"\u001b[0m\n"
      ]
     },
     "metadata": {},
     "output_type": "display_data"
    },
    {
     "data": {
      "text/html": [
       "<pre style=\"white-space:pre;overflow-x:auto;line-height:normal;font-family:Menlo,'DejaVu Sans Mono',consolas,'Courier New',monospace\">┏━━━━━━━━━━━━━━━━━━━━━━━━━━━━━━━━━━━━━━┳━━━━━━━━━━━━━━━━━━━━━━━━━━━━━┳━━━━━━━━━━━━━━━━━┓\n",
       "┃<span style=\"font-weight: bold\"> Layer (type)                         </span>┃<span style=\"font-weight: bold\"> Output Shape                </span>┃<span style=\"font-weight: bold\">         Param # </span>┃\n",
       "┡━━━━━━━━━━━━━━━━━━━━━━━━━━━━━━━━━━━━━━╇━━━━━━━━━━━━━━━━━━━━━━━━━━━━━╇━━━━━━━━━━━━━━━━━┩\n",
       "│ flatten_3 (<span style=\"color: #0087ff; text-decoration-color: #0087ff\">Flatten</span>)                  │ (<span style=\"color: #00d7ff; text-decoration-color: #00d7ff\">None</span>, <span style=\"color: #00af00; text-decoration-color: #00af00\">3072</span>)                │               <span style=\"color: #00af00; text-decoration-color: #00af00\">0</span> │\n",
       "├──────────────────────────────────────┼─────────────────────────────┼─────────────────┤\n",
       "│ dense_9 (<span style=\"color: #0087ff; text-decoration-color: #0087ff\">Dense</span>)                      │ (<span style=\"color: #00d7ff; text-decoration-color: #00d7ff\">None</span>, <span style=\"color: #00af00; text-decoration-color: #00af00\">64</span>)                  │         <span style=\"color: #00af00; text-decoration-color: #00af00\">196,672</span> │\n",
       "├──────────────────────────────────────┼─────────────────────────────┼─────────────────┤\n",
       "│ dense_10 (<span style=\"color: #0087ff; text-decoration-color: #0087ff\">Dense</span>)                     │ (<span style=\"color: #00d7ff; text-decoration-color: #00d7ff\">None</span>, <span style=\"color: #00af00; text-decoration-color: #00af00\">32</span>)                  │           <span style=\"color: #00af00; text-decoration-color: #00af00\">2,080</span> │\n",
       "├──────────────────────────────────────┼─────────────────────────────┼─────────────────┤\n",
       "│ dense_11 (<span style=\"color: #0087ff; text-decoration-color: #0087ff\">Dense</span>)                     │ (<span style=\"color: #00d7ff; text-decoration-color: #00d7ff\">None</span>, <span style=\"color: #00af00; text-decoration-color: #00af00\">10</span>)                  │             <span style=\"color: #00af00; text-decoration-color: #00af00\">330</span> │\n",
       "├──────────────────────────────────────┼─────────────────────────────┼─────────────────┤\n",
       "│ softmax_3 (<span style=\"color: #0087ff; text-decoration-color: #0087ff\">Softmax</span>)                  │ (<span style=\"color: #00d7ff; text-decoration-color: #00d7ff\">None</span>, <span style=\"color: #00af00; text-decoration-color: #00af00\">10</span>)                  │               <span style=\"color: #00af00; text-decoration-color: #00af00\">0</span> │\n",
       "└──────────────────────────────────────┴─────────────────────────────┴─────────────────┘\n",
       "</pre>\n"
      ],
      "text/plain": [
       "┏━━━━━━━━━━━━━━━━━━━━━━━━━━━━━━━━━━━━━━┳━━━━━━━━━━━━━━━━━━━━━━━━━━━━━┳━━━━━━━━━━━━━━━━━┓\n",
       "┃\u001b[1m \u001b[0m\u001b[1mLayer (type)                        \u001b[0m\u001b[1m \u001b[0m┃\u001b[1m \u001b[0m\u001b[1mOutput Shape               \u001b[0m\u001b[1m \u001b[0m┃\u001b[1m \u001b[0m\u001b[1m        Param #\u001b[0m\u001b[1m \u001b[0m┃\n",
       "┡━━━━━━━━━━━━━━━━━━━━━━━━━━━━━━━━━━━━━━╇━━━━━━━━━━━━━━━━━━━━━━━━━━━━━╇━━━━━━━━━━━━━━━━━┩\n",
       "│ flatten_3 (\u001b[38;5;33mFlatten\u001b[0m)                  │ (\u001b[38;5;45mNone\u001b[0m, \u001b[38;5;34m3072\u001b[0m)                │               \u001b[38;5;34m0\u001b[0m │\n",
       "├──────────────────────────────────────┼─────────────────────────────┼─────────────────┤\n",
       "│ dense_9 (\u001b[38;5;33mDense\u001b[0m)                      │ (\u001b[38;5;45mNone\u001b[0m, \u001b[38;5;34m64\u001b[0m)                  │         \u001b[38;5;34m196,672\u001b[0m │\n",
       "├──────────────────────────────────────┼─────────────────────────────┼─────────────────┤\n",
       "│ dense_10 (\u001b[38;5;33mDense\u001b[0m)                     │ (\u001b[38;5;45mNone\u001b[0m, \u001b[38;5;34m32\u001b[0m)                  │           \u001b[38;5;34m2,080\u001b[0m │\n",
       "├──────────────────────────────────────┼─────────────────────────────┼─────────────────┤\n",
       "│ dense_11 (\u001b[38;5;33mDense\u001b[0m)                     │ (\u001b[38;5;45mNone\u001b[0m, \u001b[38;5;34m10\u001b[0m)                  │             \u001b[38;5;34m330\u001b[0m │\n",
       "├──────────────────────────────────────┼─────────────────────────────┼─────────────────┤\n",
       "│ softmax_3 (\u001b[38;5;33mSoftmax\u001b[0m)                  │ (\u001b[38;5;45mNone\u001b[0m, \u001b[38;5;34m10\u001b[0m)                  │               \u001b[38;5;34m0\u001b[0m │\n",
       "└──────────────────────────────────────┴─────────────────────────────┴─────────────────┘\n"
      ]
     },
     "metadata": {},
     "output_type": "display_data"
    },
    {
     "data": {
      "text/html": [
       "<pre style=\"white-space:pre;overflow-x:auto;line-height:normal;font-family:Menlo,'DejaVu Sans Mono',consolas,'Courier New',monospace\"><span style=\"font-weight: bold\"> Total params: </span><span style=\"color: #00af00; text-decoration-color: #00af00\">199,084</span> (777.68 KB)\n",
       "</pre>\n"
      ],
      "text/plain": [
       "\u001b[1m Total params: \u001b[0m\u001b[38;5;34m199,084\u001b[0m (777.68 KB)\n"
      ]
     },
     "metadata": {},
     "output_type": "display_data"
    },
    {
     "data": {
      "text/html": [
       "<pre style=\"white-space:pre;overflow-x:auto;line-height:normal;font-family:Menlo,'DejaVu Sans Mono',consolas,'Courier New',monospace\"><span style=\"font-weight: bold\"> Trainable params: </span><span style=\"color: #00af00; text-decoration-color: #00af00\">199,082</span> (777.66 KB)\n",
       "</pre>\n"
      ],
      "text/plain": [
       "\u001b[1m Trainable params: \u001b[0m\u001b[38;5;34m199,082\u001b[0m (777.66 KB)\n"
      ]
     },
     "metadata": {},
     "output_type": "display_data"
    },
    {
     "data": {
      "text/html": [
       "<pre style=\"white-space:pre;overflow-x:auto;line-height:normal;font-family:Menlo,'DejaVu Sans Mono',consolas,'Courier New',monospace\"><span style=\"font-weight: bold\"> Non-trainable params: </span><span style=\"color: #00af00; text-decoration-color: #00af00\">0</span> (0.00 B)\n",
       "</pre>\n"
      ],
      "text/plain": [
       "\u001b[1m Non-trainable params: \u001b[0m\u001b[38;5;34m0\u001b[0m (0.00 B)\n"
      ]
     },
     "metadata": {},
     "output_type": "display_data"
    },
    {
     "data": {
      "text/html": [
       "<pre style=\"white-space:pre;overflow-x:auto;line-height:normal;font-family:Menlo,'DejaVu Sans Mono',consolas,'Courier New',monospace\"><span style=\"font-weight: bold\"> Optimizer params: </span><span style=\"color: #00af00; text-decoration-color: #00af00\">2</span> (12.00 B)\n",
       "</pre>\n"
      ],
      "text/plain": [
       "\u001b[1m Optimizer params: \u001b[0m\u001b[38;5;34m2\u001b[0m (12.00 B)\n"
      ]
     },
     "metadata": {},
     "output_type": "display_data"
    }
   ],
   "source": [
    "# You can check the model architecture with the summary() function\n",
    "model_tf.summary()"
   ]
  }
 ],
 "metadata": {
  "colab": {
   "provenance": []
  },
  "kernelspec": {
   "display_name": "Python 3 (ipykernel)",
   "language": "python",
   "name": "python3"
  },
  "language_info": {
   "codemirror_mode": {
    "name": "ipython",
    "version": 3
   },
   "file_extension": ".py",
   "mimetype": "text/x-python",
   "name": "python",
   "nbconvert_exporter": "python",
   "pygments_lexer": "ipython3",
   "version": "3.11.6"
  }
 },
 "nbformat": 4,
 "nbformat_minor": 1
}
